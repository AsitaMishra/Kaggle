{
 "cells": [
  {
   "cell_type": "code",
   "execution_count": 1,
   "id": "7e869178",
   "metadata": {
    "execution": {
     "iopub.execute_input": "2023-07-27T12:26:37.544672Z",
     "iopub.status.busy": "2023-07-27T12:26:37.543646Z",
     "iopub.status.idle": "2023-07-27T12:26:44.730301Z",
     "shell.execute_reply": "2023-07-27T12:26:44.729117Z"
    },
    "papermill": {
     "duration": 7.201958,
     "end_time": "2023-07-27T12:26:44.733046",
     "exception": false,
     "start_time": "2023-07-27T12:26:37.531088",
     "status": "completed"
    },
    "tags": []
   },
   "outputs": [
    {
     "name": "stderr",
     "output_type": "stream",
     "text": [
      "/opt/conda/lib/python3.10/site-packages/scipy/__init__.py:146: UserWarning: A NumPy version >=1.16.5 and <1.23.0 is required for this version of SciPy (detected version 1.23.5\n",
      "  warnings.warn(f\"A NumPy version >={np_minversion} and <{np_maxversion}\"\n",
      "/opt/conda/lib/python3.10/site-packages/tensorflow_io/python/ops/__init__.py:98: UserWarning: unable to load libtensorflow_io_plugins.so: unable to open file: libtensorflow_io_plugins.so, from paths: ['/opt/conda/lib/python3.10/site-packages/tensorflow_io/python/ops/libtensorflow_io_plugins.so']\n",
      "caused by: ['/opt/conda/lib/python3.10/site-packages/tensorflow_io/python/ops/libtensorflow_io_plugins.so: undefined symbol: _ZN3tsl6StatusC1EN10tensorflow5error4CodeESt17basic_string_viewIcSt11char_traitsIcEENS_14SourceLocationE']\n",
      "  warnings.warn(f\"unable to load libtensorflow_io_plugins.so: {e}\")\n",
      "/opt/conda/lib/python3.10/site-packages/tensorflow_io/python/ops/__init__.py:104: UserWarning: file system plugins are not loaded: unable to open file: libtensorflow_io.so, from paths: ['/opt/conda/lib/python3.10/site-packages/tensorflow_io/python/ops/libtensorflow_io.so']\n",
      "caused by: ['/opt/conda/lib/python3.10/site-packages/tensorflow_io/python/ops/libtensorflow_io.so: undefined symbol: _ZTVN10tensorflow13GcsFileSystemE']\n",
      "  warnings.warn(f\"file system plugins are not loaded: {e}\")\n"
     ]
    }
   ],
   "source": [
    "import pandas as pd\n",
    "import numpy as np\n",
    "import tensorflow as tf\n",
    "from keras.models import Model, Sequential\n",
    "from keras import layers"
   ]
  },
  {
   "cell_type": "code",
   "execution_count": 2,
   "id": "902e3cd7",
   "metadata": {
    "execution": {
     "iopub.execute_input": "2023-07-27T12:26:44.756556Z",
     "iopub.status.busy": "2023-07-27T12:26:44.755267Z",
     "iopub.status.idle": "2023-07-27T12:26:44.776300Z",
     "shell.execute_reply": "2023-07-27T12:26:44.775404Z"
    },
    "papermill": {
     "duration": 0.034333,
     "end_time": "2023-07-27T12:26:44.778294",
     "exception": false,
     "start_time": "2023-07-27T12:26:44.743961",
     "status": "completed"
    },
    "tags": []
   },
   "outputs": [],
   "source": [
    "df = pd.read_csv('/kaggle/input/poem-classification-nlp/Poem_classification - train_data.csv')"
   ]
  },
  {
   "cell_type": "code",
   "execution_count": 3,
   "id": "46dfcfeb",
   "metadata": {
    "execution": {
     "iopub.execute_input": "2023-07-27T12:26:44.800189Z",
     "iopub.status.busy": "2023-07-27T12:26:44.799911Z",
     "iopub.status.idle": "2023-07-27T12:26:44.814444Z",
     "shell.execute_reply": "2023-07-27T12:26:44.813552Z"
    },
    "papermill": {
     "duration": 0.027904,
     "end_time": "2023-07-27T12:26:44.816460",
     "exception": false,
     "start_time": "2023-07-27T12:26:44.788556",
     "status": "completed"
    },
    "tags": []
   },
   "outputs": [
    {
     "data": {
      "text/html": [
       "<div>\n",
       "<style scoped>\n",
       "    .dataframe tbody tr th:only-of-type {\n",
       "        vertical-align: middle;\n",
       "    }\n",
       "\n",
       "    .dataframe tbody tr th {\n",
       "        vertical-align: top;\n",
       "    }\n",
       "\n",
       "    .dataframe thead th {\n",
       "        text-align: right;\n",
       "    }\n",
       "</style>\n",
       "<table border=\"1\" class=\"dataframe\">\n",
       "  <thead>\n",
       "    <tr style=\"text-align: right;\">\n",
       "      <th></th>\n",
       "      <th>Genre</th>\n",
       "      <th>Poem</th>\n",
       "    </tr>\n",
       "  </thead>\n",
       "  <tbody>\n",
       "    <tr>\n",
       "      <th>0</th>\n",
       "      <td>Music</td>\n",
       "      <td>NaN</td>\n",
       "    </tr>\n",
       "    <tr>\n",
       "      <th>1</th>\n",
       "      <td>Music</td>\n",
       "      <td>In the thick brushthey spend the...</td>\n",
       "    </tr>\n",
       "    <tr>\n",
       "      <th>2</th>\n",
       "      <td>Music</td>\n",
       "      <td>Storms are generous.                       ...</td>\n",
       "    </tr>\n",
       "    <tr>\n",
       "      <th>3</th>\n",
       "      <td>Music</td>\n",
       "      <td>—After Ana Mendieta Did you carry around the ...</td>\n",
       "    </tr>\n",
       "    <tr>\n",
       "      <th>4</th>\n",
       "      <td>Music</td>\n",
       "      <td>for Aja Sherrard at 20The portent may itself ...</td>\n",
       "    </tr>\n",
       "  </tbody>\n",
       "</table>\n",
       "</div>"
      ],
      "text/plain": [
       "   Genre                                               Poem\n",
       "0  Music                                                NaN\n",
       "1  Music                In the thick brushthey spend the...\n",
       "2  Music     Storms are generous.                       ...\n",
       "3  Music   —After Ana Mendieta Did you carry around the ...\n",
       "4  Music   for Aja Sherrard at 20The portent may itself ..."
      ]
     },
     "execution_count": 3,
     "metadata": {},
     "output_type": "execute_result"
    }
   ],
   "source": [
    "df.head()"
   ]
  },
  {
   "cell_type": "code",
   "execution_count": 4,
   "id": "18ba57dc",
   "metadata": {
    "execution": {
     "iopub.execute_input": "2023-07-27T12:26:44.839909Z",
     "iopub.status.busy": "2023-07-27T12:26:44.839101Z",
     "iopub.status.idle": "2023-07-27T12:26:44.847260Z",
     "shell.execute_reply": "2023-07-27T12:26:44.846427Z"
    },
    "papermill": {
     "duration": 0.021432,
     "end_time": "2023-07-27T12:26:44.849234",
     "exception": false,
     "start_time": "2023-07-27T12:26:44.827802",
     "status": "completed"
    },
    "tags": []
   },
   "outputs": [],
   "source": [
    "df.dropna(inplace= True)"
   ]
  },
  {
   "cell_type": "code",
   "execution_count": 5,
   "id": "a94cad41",
   "metadata": {
    "execution": {
     "iopub.execute_input": "2023-07-27T12:26:44.872363Z",
     "iopub.status.busy": "2023-07-27T12:26:44.871518Z",
     "iopub.status.idle": "2023-07-27T12:26:44.880497Z",
     "shell.execute_reply": "2023-07-27T12:26:44.879584Z"
    },
    "papermill": {
     "duration": 0.022653,
     "end_time": "2023-07-27T12:26:44.882456",
     "exception": false,
     "start_time": "2023-07-27T12:26:44.859803",
     "status": "completed"
    },
    "tags": []
   },
   "outputs": [
    {
     "data": {
      "text/html": [
       "<div>\n",
       "<style scoped>\n",
       "    .dataframe tbody tr th:only-of-type {\n",
       "        vertical-align: middle;\n",
       "    }\n",
       "\n",
       "    .dataframe tbody tr th {\n",
       "        vertical-align: top;\n",
       "    }\n",
       "\n",
       "    .dataframe thead th {\n",
       "        text-align: right;\n",
       "    }\n",
       "</style>\n",
       "<table border=\"1\" class=\"dataframe\">\n",
       "  <thead>\n",
       "    <tr style=\"text-align: right;\">\n",
       "      <th></th>\n",
       "      <th>Genre</th>\n",
       "      <th>Poem</th>\n",
       "    </tr>\n",
       "  </thead>\n",
       "  <tbody>\n",
       "    <tr>\n",
       "      <th>1</th>\n",
       "      <td>Music</td>\n",
       "      <td>In the thick brushthey spend the...</td>\n",
       "    </tr>\n",
       "    <tr>\n",
       "      <th>2</th>\n",
       "      <td>Music</td>\n",
       "      <td>Storms are generous.                       ...</td>\n",
       "    </tr>\n",
       "    <tr>\n",
       "      <th>3</th>\n",
       "      <td>Music</td>\n",
       "      <td>—After Ana Mendieta Did you carry around the ...</td>\n",
       "    </tr>\n",
       "    <tr>\n",
       "      <th>4</th>\n",
       "      <td>Music</td>\n",
       "      <td>for Aja Sherrard at 20The portent may itself ...</td>\n",
       "    </tr>\n",
       "    <tr>\n",
       "      <th>5</th>\n",
       "      <td>Music</td>\n",
       "      <td>for Bob Marley, Bavaria, November 1980 Here i...</td>\n",
       "    </tr>\n",
       "  </tbody>\n",
       "</table>\n",
       "</div>"
      ],
      "text/plain": [
       "   Genre                                               Poem\n",
       "1  Music                In the thick brushthey spend the...\n",
       "2  Music     Storms are generous.                       ...\n",
       "3  Music   —After Ana Mendieta Did you carry around the ...\n",
       "4  Music   for Aja Sherrard at 20The portent may itself ...\n",
       "5  Music   for Bob Marley, Bavaria, November 1980 Here i..."
      ]
     },
     "execution_count": 5,
     "metadata": {},
     "output_type": "execute_result"
    }
   ],
   "source": [
    "df.head()"
   ]
  },
  {
   "cell_type": "code",
   "execution_count": 6,
   "id": "63154614",
   "metadata": {
    "execution": {
     "iopub.execute_input": "2023-07-27T12:26:44.905477Z",
     "iopub.status.busy": "2023-07-27T12:26:44.905219Z",
     "iopub.status.idle": "2023-07-27T12:26:44.913212Z",
     "shell.execute_reply": "2023-07-27T12:26:44.912357Z"
    },
    "papermill": {
     "duration": 0.021559,
     "end_time": "2023-07-27T12:26:44.915161",
     "exception": false,
     "start_time": "2023-07-27T12:26:44.893602",
     "status": "completed"
    },
    "tags": []
   },
   "outputs": [
    {
     "data": {
      "text/plain": [
       "array(['Music', 'Death', 'Affection', 'Environment'], dtype=object)"
      ]
     },
     "execution_count": 6,
     "metadata": {},
     "output_type": "execute_result"
    }
   ],
   "source": [
    "df['Genre'].unique()"
   ]
  },
  {
   "cell_type": "code",
   "execution_count": 7,
   "id": "55b14551",
   "metadata": {
    "execution": {
     "iopub.execute_input": "2023-07-27T12:26:44.938138Z",
     "iopub.status.busy": "2023-07-27T12:26:44.937363Z",
     "iopub.status.idle": "2023-07-27T12:26:44.945789Z",
     "shell.execute_reply": "2023-07-27T12:26:44.944833Z"
    },
    "papermill": {
     "duration": 0.021988,
     "end_time": "2023-07-27T12:26:44.947853",
     "exception": false,
     "start_time": "2023-07-27T12:26:44.925865",
     "status": "completed"
    },
    "tags": []
   },
   "outputs": [
    {
     "data": {
      "text/plain": [
       "1      In the thick brushthey spend the hottest part ...\n",
       "2      Storms are generous.                          ...\n",
       "3      —After Ana Mendieta Did you carry around the m...\n",
       "4      for Aja Sherrard at 20The portent may itself b...\n",
       "5      for Bob Marley, Bavaria, November 1980 Here is...\n",
       "                             ...                        \n",
       "836    Why make so much of fragmentary blue In here a...\n",
       "837    Woman, I wish I didn't know your name. What co...\n",
       "838    Yonder to the kiosk, beside the creek, Paddle ...\n",
       "839    You come to fetch me from my work to-night Whe...\n",
       "840    You see them through water and glass, (both li...\n",
       "Name: Poem, Length: 837, dtype: object"
      ]
     },
     "execution_count": 7,
     "metadata": {},
     "output_type": "execute_result"
    }
   ],
   "source": [
    "df['Poem'].apply(lambda x: x.strip())"
   ]
  },
  {
   "cell_type": "code",
   "execution_count": 8,
   "id": "7fa89e77",
   "metadata": {
    "execution": {
     "iopub.execute_input": "2023-07-27T12:26:44.971270Z",
     "iopub.status.busy": "2023-07-27T12:26:44.970503Z",
     "iopub.status.idle": "2023-07-27T12:26:44.977352Z",
     "shell.execute_reply": "2023-07-27T12:26:44.976518Z"
    },
    "papermill": {
     "duration": 0.020489,
     "end_time": "2023-07-27T12:26:44.979264",
     "exception": false,
     "start_time": "2023-07-27T12:26:44.958775",
     "status": "completed"
    },
    "tags": []
   },
   "outputs": [],
   "source": [
    "label_dummies = pd.get_dummies(df['Genre'])"
   ]
  },
  {
   "cell_type": "code",
   "execution_count": 9,
   "id": "49c849ab",
   "metadata": {
    "execution": {
     "iopub.execute_input": "2023-07-27T12:26:45.002650Z",
     "iopub.status.busy": "2023-07-27T12:26:45.001866Z",
     "iopub.status.idle": "2023-07-27T12:26:45.006174Z",
     "shell.execute_reply": "2023-07-27T12:26:45.005342Z"
    },
    "papermill": {
     "duration": 0.017784,
     "end_time": "2023-07-27T12:26:45.008088",
     "exception": false,
     "start_time": "2023-07-27T12:26:44.990304",
     "status": "completed"
    },
    "tags": []
   },
   "outputs": [],
   "source": [
    "categories = label_dummies.columns"
   ]
  },
  {
   "cell_type": "code",
   "execution_count": 10,
   "id": "a73d7788",
   "metadata": {
    "execution": {
     "iopub.execute_input": "2023-07-27T12:26:45.031644Z",
     "iopub.status.busy": "2023-07-27T12:26:45.030842Z",
     "iopub.status.idle": "2023-07-27T12:26:45.037702Z",
     "shell.execute_reply": "2023-07-27T12:26:45.036860Z"
    },
    "papermill": {
     "duration": 0.020507,
     "end_time": "2023-07-27T12:26:45.039635",
     "exception": false,
     "start_time": "2023-07-27T12:26:45.019128",
     "status": "completed"
    },
    "tags": []
   },
   "outputs": [],
   "source": [
    "labels = pd.get_dummies(df['Genre']).values.astype(np.float32)\n",
    "poems_df = df['Poem'].values.astype(str)"
   ]
  },
  {
   "cell_type": "code",
   "execution_count": 11,
   "id": "c3d4f9ed",
   "metadata": {
    "execution": {
     "iopub.execute_input": "2023-07-27T12:26:45.062428Z",
     "iopub.status.busy": "2023-07-27T12:26:45.062171Z",
     "iopub.status.idle": "2023-07-27T12:26:45.066517Z",
     "shell.execute_reply": "2023-07-27T12:26:45.065587Z"
    },
    "papermill": {
     "duration": 0.018065,
     "end_time": "2023-07-27T12:26:45.068686",
     "exception": false,
     "start_time": "2023-07-27T12:26:45.050621",
     "status": "completed"
    },
    "tags": []
   },
   "outputs": [],
   "source": [
    "labels = labels.argmax(-1)"
   ]
  },
  {
   "cell_type": "code",
   "execution_count": 12,
   "id": "995c0972",
   "metadata": {
    "execution": {
     "iopub.execute_input": "2023-07-27T12:26:45.097010Z",
     "iopub.status.busy": "2023-07-27T12:26:45.096483Z",
     "iopub.status.idle": "2023-07-27T12:26:45.102184Z",
     "shell.execute_reply": "2023-07-27T12:26:45.101246Z"
    },
    "papermill": {
     "duration": 0.020044,
     "end_time": "2023-07-27T12:26:45.104185",
     "exception": false,
     "start_time": "2023-07-27T12:26:45.084141",
     "status": "completed"
    },
    "tags": []
   },
   "outputs": [
    {
     "data": {
      "text/plain": [
       "837"
      ]
     },
     "execution_count": 12,
     "metadata": {},
     "output_type": "execute_result"
    }
   ],
   "source": [
    "len(labels)"
   ]
  },
  {
   "cell_type": "code",
   "execution_count": 13,
   "id": "ffac7997",
   "metadata": {
    "execution": {
     "iopub.execute_input": "2023-07-27T12:26:45.127753Z",
     "iopub.status.busy": "2023-07-27T12:26:45.126979Z",
     "iopub.status.idle": "2023-07-27T12:26:45.133517Z",
     "shell.execute_reply": "2023-07-27T12:26:45.132546Z"
    },
    "papermill": {
     "duration": 0.02024,
     "end_time": "2023-07-27T12:26:45.135462",
     "exception": false,
     "start_time": "2023-07-27T12:26:45.115222",
     "status": "completed"
    },
    "tags": []
   },
   "outputs": [
    {
     "data": {
      "text/plain": [
       "'\\xa0 \\xa0 \\xa0 \\xa0 \\xa0 \\xa0 \\xa0 In the thick brushthey spend the hottest part of the day,\\xa0 \\xa0 \\xa0 \\xa0 \\xa0 \\xa0 \\xa0 soaking their hoovesin the trickle of mountain water\\xa0 \\xa0 \\xa0 \\xa0 \\xa0 \\xa0 \\xa0 the ravine hoardson behalf of the oleander.\\xa0 \\xa0 \\xa0 \\xa0 \\xa0 \\xa0'"
      ]
     },
     "execution_count": 13,
     "metadata": {},
     "output_type": "execute_result"
    }
   ],
   "source": [
    "poems_df[0]"
   ]
  },
  {
   "cell_type": "code",
   "execution_count": 14,
   "id": "c6c5a23c",
   "metadata": {
    "execution": {
     "iopub.execute_input": "2023-07-27T12:26:45.159714Z",
     "iopub.status.busy": "2023-07-27T12:26:45.158814Z",
     "iopub.status.idle": "2023-07-27T12:26:45.167691Z",
     "shell.execute_reply": "2023-07-27T12:26:45.166803Z"
    },
    "papermill": {
     "duration": 0.023152,
     "end_time": "2023-07-27T12:26:45.169728",
     "exception": false,
     "start_time": "2023-07-27T12:26:45.146576",
     "status": "completed"
    },
    "tags": []
   },
   "outputs": [],
   "source": [
    "poems = []\n",
    "for poem in poems_df:\n",
    "    poems.append(poem.replace('\\xa0', '').strip())\n",
    "poems = np.array(poems)"
   ]
  },
  {
   "cell_type": "code",
   "execution_count": 15,
   "id": "cc936d72",
   "metadata": {
    "execution": {
     "iopub.execute_input": "2023-07-27T12:26:45.193891Z",
     "iopub.status.busy": "2023-07-27T12:26:45.193102Z",
     "iopub.status.idle": "2023-07-27T12:26:45.199428Z",
     "shell.execute_reply": "2023-07-27T12:26:45.198383Z"
    },
    "papermill": {
     "duration": 0.020457,
     "end_time": "2023-07-27T12:26:45.201518",
     "exception": false,
     "start_time": "2023-07-27T12:26:45.181061",
     "status": "completed"
    },
    "tags": []
   },
   "outputs": [
    {
     "data": {
      "text/plain": [
       "(837,)"
      ]
     },
     "execution_count": 15,
     "metadata": {},
     "output_type": "execute_result"
    }
   ],
   "source": [
    "poems.shape"
   ]
  },
  {
   "cell_type": "code",
   "execution_count": 16,
   "id": "f6d0dcbd",
   "metadata": {
    "execution": {
     "iopub.execute_input": "2023-07-27T12:26:45.225736Z",
     "iopub.status.busy": "2023-07-27T12:26:45.224992Z",
     "iopub.status.idle": "2023-07-27T12:26:45.230732Z",
     "shell.execute_reply": "2023-07-27T12:26:45.229884Z"
    },
    "papermill": {
     "duration": 0.019781,
     "end_time": "2023-07-27T12:26:45.232747",
     "exception": false,
     "start_time": "2023-07-27T12:26:45.212966",
     "status": "completed"
    },
    "tags": []
   },
   "outputs": [],
   "source": [
    "poems_len = [len(poem) for poem in poems]\n",
    "max_len = max(poems_len)"
   ]
  },
  {
   "cell_type": "code",
   "execution_count": 17,
   "id": "e7131f69",
   "metadata": {
    "execution": {
     "iopub.execute_input": "2023-07-27T12:26:45.256674Z",
     "iopub.status.busy": "2023-07-27T12:26:45.255866Z",
     "iopub.status.idle": "2023-07-27T12:26:45.261778Z",
     "shell.execute_reply": "2023-07-27T12:26:45.260826Z"
    },
    "papermill": {
     "duration": 0.019786,
     "end_time": "2023-07-27T12:26:45.263773",
     "exception": false,
     "start_time": "2023-07-27T12:26:45.243987",
     "status": "completed"
    },
    "tags": []
   },
   "outputs": [
    {
     "data": {
      "text/plain": [
       "466"
      ]
     },
     "execution_count": 17,
     "metadata": {},
     "output_type": "execute_result"
    }
   ],
   "source": [
    "max_len"
   ]
  },
  {
   "cell_type": "code",
   "execution_count": 18,
   "id": "b70e70c4",
   "metadata": {
    "execution": {
     "iopub.execute_input": "2023-07-27T12:26:45.288106Z",
     "iopub.status.busy": "2023-07-27T12:26:45.287307Z",
     "iopub.status.idle": "2023-07-27T12:26:48.365563Z",
     "shell.execute_reply": "2023-07-27T12:26:48.364576Z"
    },
    "papermill": {
     "duration": 3.092759,
     "end_time": "2023-07-27T12:26:48.368042",
     "exception": false,
     "start_time": "2023-07-27T12:26:45.275283",
     "status": "completed"
    },
    "tags": []
   },
   "outputs": [],
   "source": [
    "v = layers.TextVectorization(output_sequence_length= max_len)"
   ]
  },
  {
   "cell_type": "code",
   "execution_count": 19,
   "id": "01658bed",
   "metadata": {
    "execution": {
     "iopub.execute_input": "2023-07-27T12:26:48.393138Z",
     "iopub.status.busy": "2023-07-27T12:26:48.392849Z",
     "iopub.status.idle": "2023-07-27T12:26:48.703217Z",
     "shell.execute_reply": "2023-07-27T12:26:48.702164Z"
    },
    "papermill": {
     "duration": 0.326106,
     "end_time": "2023-07-27T12:26:48.706437",
     "exception": false,
     "start_time": "2023-07-27T12:26:48.380331",
     "status": "completed"
    },
    "tags": []
   },
   "outputs": [],
   "source": [
    "v.adapt(poems)"
   ]
  },
  {
   "cell_type": "code",
   "execution_count": 20,
   "id": "f5971060",
   "metadata": {
    "execution": {
     "iopub.execute_input": "2023-07-27T12:26:48.731603Z",
     "iopub.status.busy": "2023-07-27T12:26:48.731146Z",
     "iopub.status.idle": "2023-07-27T12:26:48.764506Z",
     "shell.execute_reply": "2023-07-27T12:26:48.763445Z"
    },
    "papermill": {
     "duration": 0.04808,
     "end_time": "2023-07-27T12:26:48.766666",
     "exception": false,
     "start_time": "2023-07-27T12:26:48.718586",
     "status": "completed"
    },
    "tags": []
   },
   "outputs": [
    {
     "data": {
      "text/plain": [
       "9664"
      ]
     },
     "execution_count": 20,
     "metadata": {},
     "output_type": "execute_result"
    }
   ],
   "source": [
    "vocab_size = len(v.get_vocabulary(False))\n",
    "vocab_size"
   ]
  },
  {
   "cell_type": "code",
   "execution_count": 21,
   "id": "12bd0b6e",
   "metadata": {
    "execution": {
     "iopub.execute_input": "2023-07-27T12:26:48.790813Z",
     "iopub.status.busy": "2023-07-27T12:26:48.790506Z",
     "iopub.status.idle": "2023-07-27T12:26:48.831669Z",
     "shell.execute_reply": "2023-07-27T12:26:48.830584Z"
    },
    "papermill": {
     "duration": 0.056125,
     "end_time": "2023-07-27T12:26:48.834315",
     "exception": false,
     "start_time": "2023-07-27T12:26:48.778190",
     "status": "completed"
    },
    "tags": []
   },
   "outputs": [],
   "source": [
    "vocab_model = Sequential()\n",
    "vocab_model.add(layers.Input((1,) , dtype= tf.string))\n",
    "vocab_model.add(v)"
   ]
  },
  {
   "cell_type": "code",
   "execution_count": 22,
   "id": "6e43cf78",
   "metadata": {
    "execution": {
     "iopub.execute_input": "2023-07-27T12:26:48.861310Z",
     "iopub.status.busy": "2023-07-27T12:26:48.860997Z",
     "iopub.status.idle": "2023-07-27T12:26:49.366352Z",
     "shell.execute_reply": "2023-07-27T12:26:49.365314Z"
    },
    "papermill": {
     "duration": 0.521614,
     "end_time": "2023-07-27T12:26:49.368678",
     "exception": false,
     "start_time": "2023-07-27T12:26:48.847064",
     "status": "completed"
    },
    "tags": []
   },
   "outputs": [
    {
     "name": "stdout",
     "output_type": "stream",
     "text": [
      "27/27 [==============================] - 0s 2ms/step\n"
     ]
    }
   ],
   "source": [
    "vocab_vector = vocab_model.predict(poems)"
   ]
  },
  {
   "cell_type": "code",
   "execution_count": 23,
   "id": "1fda90b9",
   "metadata": {
    "execution": {
     "iopub.execute_input": "2023-07-27T12:26:49.398039Z",
     "iopub.status.busy": "2023-07-27T12:26:49.396934Z",
     "iopub.status.idle": "2023-07-27T12:26:49.408553Z",
     "shell.execute_reply": "2023-07-27T12:26:49.407582Z"
    },
    "papermill": {
     "duration": 0.02874,
     "end_time": "2023-07-27T12:26:49.410658",
     "exception": false,
     "start_time": "2023-07-27T12:26:49.381918",
     "status": "completed"
    },
    "tags": []
   },
   "outputs": [
    {
     "data": {
      "text/plain": [
       "(array([   8,    2,  663, 8850, 1927,    2, 2450,  601,    5,    2,   70,\n",
       "        4475,   50, 6866,    2,  914,    5,  311,  115,    2, 2085, 6896,\n",
       "        9156,    5,    2, 5744,    0,    0,    0,    0,    0,    0,    0,\n",
       "           0,    0,    0,    0,    0,    0,    0,    0,    0,    0,    0,\n",
       "           0,    0,    0,    0,    0,    0,    0,    0,    0,    0,    0,\n",
       "           0,    0,    0,    0,    0,    0,    0,    0,    0,    0,    0,\n",
       "           0,    0,    0,    0,    0,    0,    0,    0,    0,    0,    0,\n",
       "           0,    0,    0,    0,    0,    0,    0,    0,    0,    0,    0,\n",
       "           0,    0,    0,    0,    0,    0,    0,    0,    0,    0,    0,\n",
       "           0,    0,    0,    0,    0,    0,    0,    0,    0,    0,    0,\n",
       "           0,    0,    0,    0,    0,    0,    0,    0,    0,    0,    0,\n",
       "           0,    0,    0,    0,    0,    0,    0,    0,    0,    0,    0,\n",
       "           0,    0,    0,    0,    0,    0,    0,    0,    0,    0,    0,\n",
       "           0,    0,    0,    0,    0,    0,    0,    0,    0,    0,    0,\n",
       "           0,    0,    0,    0,    0,    0,    0,    0,    0,    0,    0,\n",
       "           0,    0,    0,    0,    0,    0,    0,    0,    0,    0,    0,\n",
       "           0,    0,    0,    0,    0,    0,    0,    0,    0,    0,    0,\n",
       "           0,    0,    0,    0,    0,    0,    0,    0,    0,    0,    0,\n",
       "           0,    0,    0,    0,    0,    0,    0,    0,    0,    0,    0,\n",
       "           0,    0,    0,    0,    0,    0,    0,    0,    0,    0,    0,\n",
       "           0,    0,    0,    0,    0,    0,    0,    0,    0,    0,    0,\n",
       "           0,    0,    0,    0,    0,    0,    0,    0,    0,    0,    0,\n",
       "           0,    0,    0,    0,    0,    0,    0,    0,    0,    0,    0,\n",
       "           0,    0,    0,    0,    0,    0,    0,    0,    0,    0,    0,\n",
       "           0,    0,    0,    0,    0,    0,    0,    0,    0,    0,    0,\n",
       "           0,    0,    0,    0,    0,    0,    0,    0,    0,    0,    0,\n",
       "           0,    0,    0,    0,    0,    0,    0,    0,    0,    0,    0,\n",
       "           0,    0,    0,    0,    0,    0,    0,    0,    0,    0,    0,\n",
       "           0,    0,    0,    0,    0,    0,    0,    0,    0,    0,    0,\n",
       "           0,    0,    0,    0,    0,    0,    0,    0,    0,    0,    0,\n",
       "           0,    0,    0,    0,    0,    0,    0,    0,    0,    0,    0,\n",
       "           0,    0,    0,    0,    0,    0,    0,    0,    0,    0,    0,\n",
       "           0,    0,    0,    0,    0,    0,    0,    0,    0,    0,    0,\n",
       "           0,    0,    0,    0,    0,    0,    0,    0,    0,    0,    0,\n",
       "           0,    0,    0,    0,    0,    0,    0,    0,    0,    0,    0,\n",
       "           0,    0,    0,    0,    0,    0,    0,    0,    0,    0,    0,\n",
       "           0,    0,    0,    0,    0,    0,    0,    0,    0,    0,    0,\n",
       "           0,    0,    0,    0,    0,    0,    0,    0,    0,    0,    0,\n",
       "           0,    0,    0,    0,    0,    0,    0,    0,    0,    0,    0,\n",
       "           0,    0,    0,    0,    0,    0,    0,    0,    0,    0,    0,\n",
       "           0,    0,    0,    0,    0,    0,    0,    0,    0,    0,    0,\n",
       "           0,    0,    0,    0,    0,    0,    0,    0,    0,    0,    0,\n",
       "           0,    0,    0,    0]),\n",
       " 3)"
      ]
     },
     "execution_count": 23,
     "metadata": {},
     "output_type": "execute_result"
    }
   ],
   "source": [
    "vocab_vector[0], labels[0]"
   ]
  },
  {
   "cell_type": "code",
   "execution_count": 24,
   "id": "e09cc912",
   "metadata": {
    "execution": {
     "iopub.execute_input": "2023-07-27T12:26:49.436554Z",
     "iopub.status.busy": "2023-07-27T12:26:49.435914Z",
     "iopub.status.idle": "2023-07-27T12:26:49.442394Z",
     "shell.execute_reply": "2023-07-27T12:26:49.441396Z"
    },
    "papermill": {
     "duration": 0.022278,
     "end_time": "2023-07-27T12:26:49.445456",
     "exception": false,
     "start_time": "2023-07-27T12:26:49.423178",
     "status": "completed"
    },
    "tags": []
   },
   "outputs": [
    {
     "data": {
      "text/plain": [
       "((837, 466), 837)"
      ]
     },
     "execution_count": 24,
     "metadata": {},
     "output_type": "execute_result"
    }
   ],
   "source": [
    "vocab_vector.shape, len(labels)"
   ]
  },
  {
   "cell_type": "code",
   "execution_count": 25,
   "id": "146135cd",
   "metadata": {
    "execution": {
     "iopub.execute_input": "2023-07-27T12:26:49.470409Z",
     "iopub.status.busy": "2023-07-27T12:26:49.470148Z",
     "iopub.status.idle": "2023-07-27T12:26:49.474643Z",
     "shell.execute_reply": "2023-07-27T12:26:49.473775Z"
    },
    "papermill": {
     "duration": 0.019312,
     "end_time": "2023-07-27T12:26:49.476674",
     "exception": false,
     "start_time": "2023-07-27T12:26:49.457362",
     "status": "completed"
    },
    "tags": []
   },
   "outputs": [],
   "source": [
    "labels = tf.convert_to_tensor(labels, dtype= tf.int64)"
   ]
  },
  {
   "cell_type": "code",
   "execution_count": 26,
   "id": "cd5a08e9",
   "metadata": {
    "execution": {
     "iopub.execute_input": "2023-07-27T12:26:49.502170Z",
     "iopub.status.busy": "2023-07-27T12:26:49.501540Z",
     "iopub.status.idle": "2023-07-27T12:26:49.510577Z",
     "shell.execute_reply": "2023-07-27T12:26:49.509573Z"
    },
    "papermill": {
     "duration": 0.024197,
     "end_time": "2023-07-27T12:26:49.512748",
     "exception": false,
     "start_time": "2023-07-27T12:26:49.488551",
     "status": "completed"
    },
    "tags": []
   },
   "outputs": [
    {
     "data": {
      "text/plain": [
       "<tf.Tensor: shape=(), dtype=int64, numpy=3>"
      ]
     },
     "execution_count": 26,
     "metadata": {},
     "output_type": "execute_result"
    }
   ],
   "source": [
    "labels[0]"
   ]
  },
  {
   "cell_type": "code",
   "execution_count": 27,
   "id": "45ae833b",
   "metadata": {
    "execution": {
     "iopub.execute_input": "2023-07-27T12:26:49.539182Z",
     "iopub.status.busy": "2023-07-27T12:26:49.538913Z",
     "iopub.status.idle": "2023-07-27T12:26:49.547340Z",
     "shell.execute_reply": "2023-07-27T12:26:49.546507Z"
    },
    "papermill": {
     "duration": 0.023614,
     "end_time": "2023-07-27T12:26:49.549246",
     "exception": false,
     "start_time": "2023-07-27T12:26:49.525632",
     "status": "completed"
    },
    "tags": []
   },
   "outputs": [],
   "source": [
    "class TransformerBlock(layers.Layer):\n",
    "    def __init__(self, embed_dim, num_heads, ff_dim, rate=0.1):\n",
    "        super().__init__()\n",
    "        self.att = layers.MultiHeadAttention(num_heads= num_heads, key_dim= embed_dim)\n",
    "        self.ffn = Sequential(\n",
    "            [layers.Dense(ff_dim, activation= 'relu'), layers.Dense(embed_dim),]\n",
    "        )\n",
    "        self.layernorm1 = layers.LayerNormalization(epsilon= 1e-6)\n",
    "        self.layernorm2 = layers.LayerNormalization(epsilon= 1e-6)\n",
    "        self.dropout1 = layers.Dropout(rate)\n",
    "        self.dropout2 = layers.Dropout(rate)\n",
    "\n",
    "    def call(self, inputs, training):\n",
    "        attn_output = self.att(inputs, inputs)\n",
    "        attn_output = self.dropout1(attn_output, training= training)\n",
    "        out1 = self.layernorm1(inputs + attn_output)\n",
    "        ffn_output = self.ffn(out1)\n",
    "        ffn_output = self.dropout2(ffn_output, training= training)\n",
    "        return self.layernorm2(out1 + ffn_output)"
   ]
  },
  {
   "cell_type": "code",
   "execution_count": 28,
   "id": "62c541f1",
   "metadata": {
    "execution": {
     "iopub.execute_input": "2023-07-27T12:26:49.574716Z",
     "iopub.status.busy": "2023-07-27T12:26:49.574432Z",
     "iopub.status.idle": "2023-07-27T12:26:49.580755Z",
     "shell.execute_reply": "2023-07-27T12:26:49.579830Z"
    },
    "papermill": {
     "duration": 0.021517,
     "end_time": "2023-07-27T12:26:49.582823",
     "exception": false,
     "start_time": "2023-07-27T12:26:49.561306",
     "status": "completed"
    },
    "tags": []
   },
   "outputs": [],
   "source": [
    "class TokenAndPositionEmbedding(layers.Layer):\n",
    "    def __init__(self, maxlen, vocab_size, embed_dim):\n",
    "        super().__init__()\n",
    "        self.token_emb = layers.Embedding(input_dim= vocab_size, output_dim= embed_dim)\n",
    "        self.pos_emb = layers.Embedding(input_dim= maxlen, output_dim= embed_dim)\n",
    "\n",
    "    def call(self, x):\n",
    "        maxlen = tf.shape(x)[-1]\n",
    "        positions = tf.range(start= 0, limit= maxlen, delta= 1)\n",
    "        positions = self.pos_emb(positions)\n",
    "        x = self.token_emb(x)\n",
    "        return x + positions"
   ]
  },
  {
   "cell_type": "code",
   "execution_count": 29,
   "id": "5d7fd641",
   "metadata": {
    "execution": {
     "iopub.execute_input": "2023-07-27T12:26:49.608214Z",
     "iopub.status.busy": "2023-07-27T12:26:49.607934Z",
     "iopub.status.idle": "2023-07-27T12:26:49.613318Z",
     "shell.execute_reply": "2023-07-27T12:26:49.612431Z"
    },
    "papermill": {
     "duration": 0.020365,
     "end_time": "2023-07-27T12:26:49.615274",
     "exception": false,
     "start_time": "2023-07-27T12:26:49.594909",
     "status": "completed"
    },
    "tags": []
   },
   "outputs": [
    {
     "data": {
      "text/plain": [
       "(9664, 466)"
      ]
     },
     "execution_count": 29,
     "metadata": {},
     "output_type": "execute_result"
    }
   ],
   "source": [
    "vocab_size, max_len"
   ]
  },
  {
   "cell_type": "code",
   "execution_count": 30,
   "id": "2e7fd633",
   "metadata": {
    "execution": {
     "iopub.execute_input": "2023-07-27T12:26:49.641743Z",
     "iopub.status.busy": "2023-07-27T12:26:49.641006Z",
     "iopub.status.idle": "2023-07-27T12:26:49.648918Z",
     "shell.execute_reply": "2023-07-27T12:26:49.648088Z"
    },
    "papermill": {
     "duration": 0.023354,
     "end_time": "2023-07-27T12:26:49.651237",
     "exception": false,
     "start_time": "2023-07-27T12:26:49.627883",
     "status": "completed"
    },
    "tags": []
   },
   "outputs": [],
   "source": [
    "embed_dim = 32\n",
    "num_heads = 2\n",
    "ff_dim = 32\n",
    "\n",
    "def transformer(maxlen= max_len,\n",
    "                vocab_size= vocab_size,\n",
    "                embed_dim= 32,\n",
    "                num_heads= 2,\n",
    "                ff_dim= 32):\n",
    "    \n",
    "    inputs = layers.Input(shape=(maxlen,))\n",
    "    \n",
    "    embedding_layer = TokenAndPositionEmbedding(maxlen, vocab_size, embed_dim)\n",
    "    transformer_block = TransformerBlock(embed_dim, num_heads, ff_dim)\n",
    "    \n",
    "    x = embedding_layer(inputs)    \n",
    "    x = transformer_block(x)\n",
    "    x = layers.GlobalAveragePooling1D()(x)\n",
    "    x = layers.Dropout(0.1)(x)\n",
    "    x = layers.Dense(20, activation= 'relu')(x)\n",
    "    x = layers.Dropout(0.1)(x)\n",
    "    outputs = layers.Dense(len(np.unique(labels)), activation= 'softmax')(x)\n",
    "\n",
    "    model = Model(inputs, outputs)\n",
    "    return model"
   ]
  },
  {
   "cell_type": "code",
   "execution_count": 31,
   "id": "78e72edd",
   "metadata": {
    "execution": {
     "iopub.execute_input": "2023-07-27T12:26:49.676639Z",
     "iopub.status.busy": "2023-07-27T12:26:49.676368Z",
     "iopub.status.idle": "2023-07-27T12:26:50.054462Z",
     "shell.execute_reply": "2023-07-27T12:26:50.053395Z"
    },
    "papermill": {
     "duration": 0.393895,
     "end_time": "2023-07-27T12:26:50.057350",
     "exception": false,
     "start_time": "2023-07-27T12:26:49.663455",
     "status": "completed"
    },
    "tags": []
   },
   "outputs": [],
   "source": [
    "transformer_model = transformer()"
   ]
  },
  {
   "cell_type": "code",
   "execution_count": 32,
   "id": "71c6f02b",
   "metadata": {
    "execution": {
     "iopub.execute_input": "2023-07-27T12:26:50.085295Z",
     "iopub.status.busy": "2023-07-27T12:26:50.084995Z",
     "iopub.status.idle": "2023-07-27T12:26:50.103555Z",
     "shell.execute_reply": "2023-07-27T12:26:50.102671Z"
    },
    "papermill": {
     "duration": 0.035543,
     "end_time": "2023-07-27T12:26:50.105741",
     "exception": false,
     "start_time": "2023-07-27T12:26:50.070198",
     "status": "completed"
    },
    "tags": []
   },
   "outputs": [],
   "source": [
    "transformer_model.compile('adam', loss= 'sparse_categorical_crossentropy', metrics= ['accuracy'])"
   ]
  },
  {
   "cell_type": "code",
   "execution_count": 33,
   "id": "606d5768",
   "metadata": {
    "execution": {
     "iopub.execute_input": "2023-07-27T12:26:50.131778Z",
     "iopub.status.busy": "2023-07-27T12:26:50.131483Z",
     "iopub.status.idle": "2023-07-27T12:29:14.285664Z",
     "shell.execute_reply": "2023-07-27T12:29:14.284518Z"
    },
    "papermill": {
     "duration": 144.256133,
     "end_time": "2023-07-27T12:29:14.374259",
     "exception": false,
     "start_time": "2023-07-27T12:26:50.118126",
     "status": "completed"
    },
    "tags": []
   },
   "outputs": [
    {
     "name": "stdout",
     "output_type": "stream",
     "text": [
      "Epoch 1/100\n",
      "27/27 [==============================] - 13s 203ms/step - loss: 1.4137 - accuracy: 0.2748\n",
      "Epoch 2/100\n",
      "27/27 [==============================] - 4s 160ms/step - loss: 1.3813 - accuracy: 0.2736\n",
      "Epoch 3/100\n",
      "27/27 [==============================] - 5s 167ms/step - loss: 1.3807 - accuracy: 0.3011\n",
      "Epoch 4/100\n",
      "27/27 [==============================] - 3s 104ms/step - loss: 1.3782 - accuracy: 0.2879\n",
      "Epoch 5/100\n",
      "27/27 [==============================] - 3s 122ms/step - loss: 1.3692 - accuracy: 0.2593\n",
      "Epoch 6/100\n",
      "27/27 [==============================] - 3s 91ms/step - loss: 1.3498 - accuracy: 0.3106\n",
      "Epoch 7/100\n",
      "27/27 [==============================] - 2s 74ms/step - loss: 1.3467 - accuracy: 0.3297\n",
      "Epoch 8/100\n",
      "27/27 [==============================] - 2s 80ms/step - loss: 1.3395 - accuracy: 0.3309\n",
      "Epoch 9/100\n",
      "27/27 [==============================] - 2s 76ms/step - loss: 1.3206 - accuracy: 0.3907\n",
      "Epoch 10/100\n",
      "27/27 [==============================] - 1s 50ms/step - loss: 1.2892 - accuracy: 0.4038\n",
      "Epoch 11/100\n",
      "27/27 [==============================] - 2s 58ms/step - loss: 1.2349 - accuracy: 0.4576\n",
      "Epoch 12/100\n",
      "27/27 [==============================] - 2s 81ms/step - loss: 0.9765 - accuracy: 0.6428\n",
      "Epoch 13/100\n",
      "27/27 [==============================] - 1s 35ms/step - loss: 0.5832 - accuracy: 0.7957\n",
      "Epoch 14/100\n",
      "27/27 [==============================] - 1s 20ms/step - loss: 0.3572 - accuracy: 0.8746\n",
      "Epoch 15/100\n",
      "27/27 [==============================] - 2s 59ms/step - loss: 0.2584 - accuracy: 0.9223\n",
      "Epoch 16/100\n",
      "27/27 [==============================] - 1s 43ms/step - loss: 0.2239 - accuracy: 0.9271\n",
      "Epoch 17/100\n",
      "27/27 [==============================] - 1s 30ms/step - loss: 0.2048 - accuracy: 0.9235\n",
      "Epoch 18/100\n",
      "27/27 [==============================] - 1s 35ms/step - loss: 0.1760 - accuracy: 0.9427\n",
      "Epoch 19/100\n",
      "27/27 [==============================] - 1s 28ms/step - loss: 0.1986 - accuracy: 0.9223\n",
      "Epoch 20/100\n",
      "27/27 [==============================] - 1s 35ms/step - loss: 0.1799 - accuracy: 0.9307\n",
      "Epoch 21/100\n",
      "27/27 [==============================] - 1s 35ms/step - loss: 0.1637 - accuracy: 0.9295\n",
      "Epoch 22/100\n",
      "27/27 [==============================] - 1s 27ms/step - loss: 0.1441 - accuracy: 0.9367\n",
      "Epoch 23/100\n",
      "27/27 [==============================] - 1s 35ms/step - loss: 0.1519 - accuracy: 0.9307\n",
      "Epoch 24/100\n",
      "27/27 [==============================] - 1s 27ms/step - loss: 0.1529 - accuracy: 0.9319\n",
      "Epoch 25/100\n",
      "27/27 [==============================] - 1s 27ms/step - loss: 0.1578 - accuracy: 0.9211\n",
      "Epoch 26/100\n",
      "27/27 [==============================] - 1s 20ms/step - loss: 0.1390 - accuracy: 0.9307\n",
      "Epoch 27/100\n",
      "27/27 [==============================] - 1s 42ms/step - loss: 0.1410 - accuracy: 0.9343\n",
      "Epoch 28/100\n",
      "27/27 [==============================] - 1s 20ms/step - loss: 0.1501 - accuracy: 0.9355\n",
      "Epoch 29/100\n",
      "27/27 [==============================] - 1s 39ms/step - loss: 0.1219 - accuracy: 0.9331\n",
      "Epoch 30/100\n",
      "27/27 [==============================] - 1s 28ms/step - loss: 0.1243 - accuracy: 0.9307\n",
      "Epoch 31/100\n",
      "27/27 [==============================] - 1s 20ms/step - loss: 0.1291 - accuracy: 0.9331\n",
      "Epoch 32/100\n",
      "27/27 [==============================] - 1s 27ms/step - loss: 0.1210 - accuracy: 0.9331\n",
      "Epoch 33/100\n",
      "27/27 [==============================] - 0s 12ms/step - loss: 0.1127 - accuracy: 0.9474\n",
      "Epoch 34/100\n",
      "27/27 [==============================] - 1s 28ms/step - loss: 0.1254 - accuracy: 0.9283\n",
      "Epoch 35/100\n",
      "27/27 [==============================] - 0s 17ms/step - loss: 0.1310 - accuracy: 0.9367\n",
      "Epoch 36/100\n",
      "27/27 [==============================] - 1s 25ms/step - loss: 0.1424 - accuracy: 0.9307\n",
      "Epoch 37/100\n",
      "27/27 [==============================] - 1s 20ms/step - loss: 0.1322 - accuracy: 0.9295\n",
      "Epoch 38/100\n",
      "27/27 [==============================] - 1s 20ms/step - loss: 0.1293 - accuracy: 0.9283\n",
      "Epoch 39/100\n",
      "27/27 [==============================] - 1s 27ms/step - loss: 0.1349 - accuracy: 0.9283\n",
      "Epoch 40/100\n",
      "27/27 [==============================] - 0s 12ms/step - loss: 0.1197 - accuracy: 0.9391\n",
      "Epoch 41/100\n",
      "27/27 [==============================] - 1s 35ms/step - loss: 0.1197 - accuracy: 0.9319\n",
      "Epoch 42/100\n",
      "27/27 [==============================] - 1s 20ms/step - loss: 0.1332 - accuracy: 0.9235\n",
      "Epoch 43/100\n",
      "27/27 [==============================] - 0s 12ms/step - loss: 0.1289 - accuracy: 0.9379\n",
      "Epoch 44/100\n",
      "27/27 [==============================] - 1s 20ms/step - loss: 0.1150 - accuracy: 0.9367\n",
      "Epoch 45/100\n",
      "27/27 [==============================] - 1s 38ms/step - loss: 0.1084 - accuracy: 0.9486\n",
      "Epoch 46/100\n",
      "27/27 [==============================] - 1s 20ms/step - loss: 0.1274 - accuracy: 0.9259\n",
      "Epoch 47/100\n",
      "27/27 [==============================] - 0s 12ms/step - loss: 0.1238 - accuracy: 0.9283\n",
      "Epoch 48/100\n",
      "27/27 [==============================] - 1s 27ms/step - loss: 0.1202 - accuracy: 0.9247\n",
      "Epoch 49/100\n",
      "27/27 [==============================] - 1s 27ms/step - loss: 0.1048 - accuracy: 0.9427\n",
      "Epoch 50/100\n",
      "27/27 [==============================] - 1s 35ms/step - loss: 0.1109 - accuracy: 0.9367\n",
      "Epoch 51/100\n",
      "27/27 [==============================] - 0s 12ms/step - loss: 0.1164 - accuracy: 0.9450\n",
      "Epoch 52/100\n",
      "27/27 [==============================] - 0s 12ms/step - loss: 0.1378 - accuracy: 0.9343\n",
      "Epoch 53/100\n",
      "27/27 [==============================] - 1s 20ms/step - loss: 0.1203 - accuracy: 0.9391\n",
      "Epoch 54/100\n",
      "27/27 [==============================] - 1s 20ms/step - loss: 0.1147 - accuracy: 0.9403\n",
      "Epoch 55/100\n",
      "27/27 [==============================] - 0s 12ms/step - loss: 0.1180 - accuracy: 0.9331\n",
      "Epoch 56/100\n",
      "27/27 [==============================] - 1s 20ms/step - loss: 0.1115 - accuracy: 0.9343\n",
      "Epoch 57/100\n",
      "27/27 [==============================] - 1s 19ms/step - loss: 0.1121 - accuracy: 0.9331\n",
      "Epoch 58/100\n",
      "27/27 [==============================] - 1s 20ms/step - loss: 0.1081 - accuracy: 0.9427\n",
      "Epoch 59/100\n",
      "27/27 [==============================] - 1s 20ms/step - loss: 0.1077 - accuracy: 0.9427\n",
      "Epoch 60/100\n",
      "27/27 [==============================] - 0s 12ms/step - loss: 0.1179 - accuracy: 0.9295\n",
      "Epoch 61/100\n",
      "27/27 [==============================] - 0s 12ms/step - loss: 0.1131 - accuracy: 0.9343\n",
      "Epoch 62/100\n",
      "27/27 [==============================] - 0s 12ms/step - loss: 0.1022 - accuracy: 0.9343\n",
      "Epoch 63/100\n",
      "27/27 [==============================] - 0s 12ms/step - loss: 0.1065 - accuracy: 0.9438\n",
      "Epoch 64/100\n",
      "27/27 [==============================] - 1s 21ms/step - loss: 0.1065 - accuracy: 0.9343\n",
      "Epoch 65/100\n",
      "27/27 [==============================] - 1s 20ms/step - loss: 0.1124 - accuracy: 0.9403\n",
      "Epoch 66/100\n",
      "27/27 [==============================] - 1s 20ms/step - loss: 0.0987 - accuracy: 0.9379\n",
      "Epoch 67/100\n",
      "27/27 [==============================] - 1s 20ms/step - loss: 0.1017 - accuracy: 0.9415\n",
      "Epoch 68/100\n",
      "27/27 [==============================] - 1s 20ms/step - loss: 0.1142 - accuracy: 0.9259\n",
      "Epoch 69/100\n",
      "27/27 [==============================] - 0s 12ms/step - loss: 0.1143 - accuracy: 0.9271\n",
      "Epoch 70/100\n",
      "27/27 [==============================] - 1s 27ms/step - loss: 0.0954 - accuracy: 0.9403\n",
      "Epoch 71/100\n",
      "27/27 [==============================] - 1s 20ms/step - loss: 0.1127 - accuracy: 0.9295\n",
      "Epoch 72/100\n",
      "27/27 [==============================] - 0s 12ms/step - loss: 0.1089 - accuracy: 0.9295\n",
      "Epoch 73/100\n",
      "27/27 [==============================] - 1s 20ms/step - loss: 0.1086 - accuracy: 0.9319\n",
      "Epoch 74/100\n",
      "27/27 [==============================] - 0s 12ms/step - loss: 0.1057 - accuracy: 0.9379\n",
      "Epoch 75/100\n",
      "27/27 [==============================] - 1s 28ms/step - loss: 0.1074 - accuracy: 0.9343\n",
      "Epoch 76/100\n",
      "27/27 [==============================] - 1s 20ms/step - loss: 0.1188 - accuracy: 0.9450\n",
      "Epoch 77/100\n",
      "27/27 [==============================] - 1s 20ms/step - loss: 0.1160 - accuracy: 0.9343\n",
      "Epoch 78/100\n",
      "27/27 [==============================] - 1s 20ms/step - loss: 0.1214 - accuracy: 0.9211\n",
      "Epoch 79/100\n",
      "27/27 [==============================] - 1s 20ms/step - loss: 0.0980 - accuracy: 0.9438\n",
      "Epoch 80/100\n",
      "27/27 [==============================] - 0s 12ms/step - loss: 0.1211 - accuracy: 0.9259\n",
      "Epoch 81/100\n",
      "27/27 [==============================] - 1s 20ms/step - loss: 0.1081 - accuracy: 0.9319\n",
      "Epoch 82/100\n",
      "27/27 [==============================] - 1s 20ms/step - loss: 0.1110 - accuracy: 0.9295\n",
      "Epoch 83/100\n",
      "27/27 [==============================] - 1s 30ms/step - loss: 0.0980 - accuracy: 0.9415\n",
      "Epoch 84/100\n",
      "27/27 [==============================] - 0s 12ms/step - loss: 0.1123 - accuracy: 0.9319\n",
      "Epoch 85/100\n",
      "27/27 [==============================] - 0s 12ms/step - loss: 0.0958 - accuracy: 0.9415\n",
      "Epoch 86/100\n",
      "27/27 [==============================] - 0s 12ms/step - loss: 0.1092 - accuracy: 0.9307\n",
      "Epoch 87/100\n",
      "27/27 [==============================] - 1s 29ms/step - loss: 0.1041 - accuracy: 0.9391\n",
      "Epoch 88/100\n",
      "27/27 [==============================] - 1s 20ms/step - loss: 0.0949 - accuracy: 0.9486\n",
      "Epoch 89/100\n",
      "27/27 [==============================] - 1s 20ms/step - loss: 0.1023 - accuracy: 0.9319\n",
      "Epoch 90/100\n",
      "27/27 [==============================] - 1s 20ms/step - loss: 0.0996 - accuracy: 0.9403\n",
      "Epoch 91/100\n",
      "27/27 [==============================] - 0s 12ms/step - loss: 0.1096 - accuracy: 0.9295\n",
      "Epoch 92/100\n",
      "27/27 [==============================] - 1s 19ms/step - loss: 0.1008 - accuracy: 0.9462\n",
      "Epoch 93/100\n",
      "27/27 [==============================] - 0s 13ms/step - loss: 0.1036 - accuracy: 0.9391\n",
      "Epoch 94/100\n",
      "27/27 [==============================] - 1s 27ms/step - loss: 0.1081 - accuracy: 0.9295\n",
      "Epoch 95/100\n",
      "27/27 [==============================] - 0s 17ms/step - loss: 0.0990 - accuracy: 0.9331\n",
      "Epoch 96/100\n",
      "27/27 [==============================] - 1s 34ms/step - loss: 0.0980 - accuracy: 0.9474\n",
      "Epoch 97/100\n",
      "27/27 [==============================] - 0s 12ms/step - loss: 0.1069 - accuracy: 0.9367\n",
      "Epoch 98/100\n",
      "27/27 [==============================] - 1s 20ms/step - loss: 0.1085 - accuracy: 0.9367\n",
      "Epoch 99/100\n",
      "27/27 [==============================] - 0s 12ms/step - loss: 0.0934 - accuracy: 0.9474\n",
      "Epoch 100/100\n",
      "27/27 [==============================] - 0s 12ms/step - loss: 0.0987 - accuracy: 0.9331\n"
     ]
    },
    {
     "data": {
      "text/plain": [
       "<keras.callbacks.History at 0x7fbc440c3c10>"
      ]
     },
     "execution_count": 33,
     "metadata": {},
     "output_type": "execute_result"
    }
   ],
   "source": [
    "transformer_model.fit(vocab_vector, labels,\n",
    "           epochs= 100,\n",
    "           batch_size= 32)"
   ]
  },
  {
   "cell_type": "code",
   "execution_count": 34,
   "id": "547b418e",
   "metadata": {
    "execution": {
     "iopub.execute_input": "2023-07-27T12:29:14.548980Z",
     "iopub.status.busy": "2023-07-27T12:29:14.548631Z",
     "iopub.status.idle": "2023-07-27T12:29:14.553825Z",
     "shell.execute_reply": "2023-07-27T12:29:14.552880Z"
    },
    "papermill": {
     "duration": 0.095344,
     "end_time": "2023-07-27T12:29:14.555778",
     "exception": false,
     "start_time": "2023-07-27T12:29:14.460434",
     "status": "completed"
    },
    "tags": []
   },
   "outputs": [],
   "source": [
    "def predicted_label(text):\n",
    "    text_vocab = vocab_model.predict([text])\n",
    "    pred = transformer_model.predict(text_vocab)\n",
    "    pred_idx = pred.argmax(-1)\n",
    "    pred_label = categories[pred_idx]\n",
    "    \n",
    "    return pred_label[0]"
   ]
  },
  {
   "cell_type": "code",
   "execution_count": 35,
   "id": "be923e68",
   "metadata": {
    "execution": {
     "iopub.execute_input": "2023-07-27T12:29:14.730695Z",
     "iopub.status.busy": "2023-07-27T12:29:14.729020Z",
     "iopub.status.idle": "2023-07-27T12:29:14.737350Z",
     "shell.execute_reply": "2023-07-27T12:29:14.736493Z"
    },
    "papermill": {
     "duration": 0.097372,
     "end_time": "2023-07-27T12:29:14.739421",
     "exception": false,
     "start_time": "2023-07-27T12:29:14.642049",
     "status": "completed"
    },
    "tags": []
   },
   "outputs": [
    {
     "data": {
      "text/plain": [
       "Index(['Affection', 'Death', 'Environment', 'Music'], dtype='object')"
      ]
     },
     "execution_count": 35,
     "metadata": {},
     "output_type": "execute_result"
    }
   ],
   "source": [
    "categories"
   ]
  },
  {
   "cell_type": "code",
   "execution_count": 36,
   "id": "0546c9e2",
   "metadata": {
    "execution": {
     "iopub.execute_input": "2023-07-27T12:29:14.916948Z",
     "iopub.status.busy": "2023-07-27T12:29:14.916081Z",
     "iopub.status.idle": "2023-07-27T12:29:15.239546Z",
     "shell.execute_reply": "2023-07-27T12:29:15.238632Z"
    },
    "papermill": {
     "duration": 0.412501,
     "end_time": "2023-07-27T12:29:15.241674",
     "exception": false,
     "start_time": "2023-07-27T12:29:14.829173",
     "status": "completed"
    },
    "tags": []
   },
   "outputs": [
    {
     "name": "stdout",
     "output_type": "stream",
     "text": [
      "1/1 [==============================] - 0s 31ms/step\n",
      "1/1 [==============================] - 0s 186ms/step\n"
     ]
    },
    {
     "data": {
      "text/plain": [
       "'Music'"
      ]
     },
     "execution_count": 36,
     "metadata": {},
     "output_type": "execute_result"
    }
   ],
   "source": [
    "text1 = '''Tell me, what is it you plan to do\n",
    "with your one wild and precious life?'''\n",
    "text1_pred = predicted_label(text1)\n",
    "text1_pred"
   ]
  },
  {
   "cell_type": "code",
   "execution_count": 37,
   "id": "bc2ad2ee",
   "metadata": {
    "execution": {
     "iopub.execute_input": "2023-07-27T12:29:15.417323Z",
     "iopub.status.busy": "2023-07-27T12:29:15.416974Z",
     "iopub.status.idle": "2023-07-27T12:29:15.553411Z",
     "shell.execute_reply": "2023-07-27T12:29:15.552259Z"
    },
    "papermill": {
     "duration": 0.226005,
     "end_time": "2023-07-27T12:29:15.555716",
     "exception": false,
     "start_time": "2023-07-27T12:29:15.329711",
     "status": "completed"
    },
    "tags": []
   },
   "outputs": [
    {
     "name": "stdout",
     "output_type": "stream",
     "text": [
      "1/1 [==============================] - 0s 32ms/step\n",
      "1/1 [==============================] - 0s 20ms/step\n"
     ]
    },
    {
     "data": {
      "text/plain": [
       "'Music'"
      ]
     },
     "execution_count": 37,
     "metadata": {},
     "output_type": "execute_result"
    }
   ],
   "source": [
    "text2 = '''Such aching mystery hides,\n",
    "in your stardust-glimmer eyes.'''\n",
    "text2_pred = predicted_label(text2)\n",
    "text2_pred"
   ]
  },
  {
   "cell_type": "code",
   "execution_count": 38,
   "id": "3ab5cab7",
   "metadata": {
    "execution": {
     "iopub.execute_input": "2023-07-27T12:29:15.736292Z",
     "iopub.status.busy": "2023-07-27T12:29:15.735903Z",
     "iopub.status.idle": "2023-07-27T12:29:15.873497Z",
     "shell.execute_reply": "2023-07-27T12:29:15.872551Z"
    },
    "papermill": {
     "duration": 0.227408,
     "end_time": "2023-07-27T12:29:15.875497",
     "exception": false,
     "start_time": "2023-07-27T12:29:15.648089",
     "status": "completed"
    },
    "tags": []
   },
   "outputs": [
    {
     "name": "stdout",
     "output_type": "stream",
     "text": [
      "1/1 [==============================] - 0s 35ms/step\n",
      "1/1 [==============================] - 0s 20ms/step\n"
     ]
    },
    {
     "data": {
      "text/plain": [
       "'Affection'"
      ]
     },
     "execution_count": 38,
     "metadata": {},
     "output_type": "execute_result"
    }
   ],
   "source": [
    "text3 = '''Like space; we are infinite, mysterious, and ever-expanding.\n",
    "You can look straight into me, and yet still have no clue what hides beyond me.'''\n",
    "text3_pred = predicted_label(text3)\n",
    "text3_pred"
   ]
  },
  {
   "cell_type": "code",
   "execution_count": 39,
   "id": "18b5d8f6",
   "metadata": {
    "execution": {
     "iopub.execute_input": "2023-07-27T12:29:16.081309Z",
     "iopub.status.busy": "2023-07-27T12:29:16.080957Z",
     "iopub.status.idle": "2023-07-27T12:29:16.267371Z",
     "shell.execute_reply": "2023-07-27T12:29:16.266636Z"
    },
    "papermill": {
     "duration": 0.289342,
     "end_time": "2023-07-27T12:29:16.269646",
     "exception": false,
     "start_time": "2023-07-27T12:29:15.980304",
     "status": "completed"
    },
    "tags": []
   },
   "outputs": [
    {
     "name": "stdout",
     "output_type": "stream",
     "text": [
      "1/1 [==============================] - 0s 65ms/step\n",
      "1/1 [==============================] - 0s 20ms/step\n"
     ]
    },
    {
     "data": {
      "text/plain": [
       "'Death'"
      ]
     },
     "execution_count": 39,
     "metadata": {},
     "output_type": "execute_result"
    }
   ],
   "source": [
    "text4 = '''Music, when soft voices die,\n",
    "Vibrates in the memory'''\n",
    "text4_pred = predicted_label(text4)\n",
    "text4_pred"
   ]
  },
  {
   "cell_type": "code",
   "execution_count": 40,
   "id": "5d1b21e1",
   "metadata": {
    "execution": {
     "iopub.execute_input": "2023-07-27T12:29:16.457572Z",
     "iopub.status.busy": "2023-07-27T12:29:16.456894Z",
     "iopub.status.idle": "2023-07-27T12:29:16.591551Z",
     "shell.execute_reply": "2023-07-27T12:29:16.590566Z"
    },
    "papermill": {
     "duration": 0.225744,
     "end_time": "2023-07-27T12:29:16.593673",
     "exception": false,
     "start_time": "2023-07-27T12:29:16.367929",
     "status": "completed"
    },
    "tags": []
   },
   "outputs": [
    {
     "name": "stdout",
     "output_type": "stream",
     "text": [
      "1/1 [==============================] - 0s 32ms/step\n",
      "1/1 [==============================] - 0s 21ms/step\n"
     ]
    },
    {
     "data": {
      "text/plain": [
       "'Death'"
      ]
     },
     "execution_count": 40,
     "metadata": {},
     "output_type": "execute_result"
    }
   ],
   "source": [
    "text5 = '''If nothing saves us from death, at least love should save us from life'''\n",
    "text5_pred = predicted_label(text5)\n",
    "text5_pred"
   ]
  }
 ],
 "metadata": {
  "kernelspec": {
   "display_name": "Python 3",
   "language": "python",
   "name": "python3"
  },
  "language_info": {
   "codemirror_mode": {
    "name": "ipython",
    "version": 3
   },
   "file_extension": ".py",
   "mimetype": "text/x-python",
   "name": "python",
   "nbconvert_exporter": "python",
   "pygments_lexer": "ipython3",
   "version": "3.10.12"
  },
  "papermill": {
   "default_parameters": {},
   "duration": 171.784375,
   "end_time": "2023-07-27T12:29:19.522479",
   "environment_variables": {},
   "exception": null,
   "input_path": "__notebook__.ipynb",
   "output_path": "__notebook__.ipynb",
   "parameters": {},
   "start_time": "2023-07-27T12:26:27.738104",
   "version": "2.4.0"
  }
 },
 "nbformat": 4,
 "nbformat_minor": 5
}
