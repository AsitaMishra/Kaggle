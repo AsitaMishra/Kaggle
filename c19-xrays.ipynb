{
 "cells": [
  {
   "cell_type": "code",
   "execution_count": 1,
   "id": "189481e1",
   "metadata": {
    "_cell_guid": "b1076dfc-b9ad-4769-8c92-a6c4dae69d19",
    "_uuid": "8f2839f25d086af736a60e9eeb907d3b93b6e0e5",
    "execution": {
     "iopub.execute_input": "2023-07-27T12:23:48.457870Z",
     "iopub.status.busy": "2023-07-27T12:23:48.456842Z",
     "iopub.status.idle": "2023-07-27T12:23:57.057548Z",
     "shell.execute_reply": "2023-07-27T12:23:57.056540Z"
    },
    "papermill": {
     "duration": 8.612112,
     "end_time": "2023-07-27T12:23:57.060351",
     "exception": false,
     "start_time": "2023-07-27T12:23:48.448239",
     "status": "completed"
    },
    "tags": []
   },
   "outputs": [
    {
     "name": "stderr",
     "output_type": "stream",
     "text": [
      "/opt/conda/lib/python3.10/site-packages/scipy/__init__.py:146: UserWarning: A NumPy version >=1.16.5 and <1.23.0 is required for this version of SciPy (detected version 1.23.5\n",
      "  warnings.warn(f\"A NumPy version >={np_minversion} and <{np_maxversion}\"\n",
      "/opt/conda/lib/python3.10/site-packages/tensorflow_io/python/ops/__init__.py:98: UserWarning: unable to load libtensorflow_io_plugins.so: unable to open file: libtensorflow_io_plugins.so, from paths: ['/opt/conda/lib/python3.10/site-packages/tensorflow_io/python/ops/libtensorflow_io_plugins.so']\n",
      "caused by: ['/opt/conda/lib/python3.10/site-packages/tensorflow_io/python/ops/libtensorflow_io_plugins.so: undefined symbol: _ZN3tsl6StatusC1EN10tensorflow5error4CodeESt17basic_string_viewIcSt11char_traitsIcEENS_14SourceLocationE']\n",
      "  warnings.warn(f\"unable to load libtensorflow_io_plugins.so: {e}\")\n",
      "/opt/conda/lib/python3.10/site-packages/tensorflow_io/python/ops/__init__.py:104: UserWarning: file system plugins are not loaded: unable to open file: libtensorflow_io.so, from paths: ['/opt/conda/lib/python3.10/site-packages/tensorflow_io/python/ops/libtensorflow_io.so']\n",
      "caused by: ['/opt/conda/lib/python3.10/site-packages/tensorflow_io/python/ops/libtensorflow_io.so: undefined symbol: _ZTVN10tensorflow13GcsFileSystemE']\n",
      "  warnings.warn(f\"file system plugins are not loaded: {e}\")\n"
     ]
    }
   ],
   "source": [
    "from typing import List\n",
    "\n",
    "import tensorflow as tf\n",
    "\n",
    "from keras.utils import image_dataset_from_directory\n",
    "from keras.layers import Rescaling\n",
    "from keras.models import Model\n",
    "from keras import layers\n",
    "from keras.metrics import Precision, Recall\n",
    "from keras.callbacks import EarlyStopping, ReduceLROnPlateau\n",
    "import keras.backend as K"
   ]
  },
  {
   "cell_type": "code",
   "execution_count": 2,
   "id": "2aa0f1bf",
   "metadata": {
    "execution": {
     "iopub.execute_input": "2023-07-27T12:23:57.072337Z",
     "iopub.status.busy": "2023-07-27T12:23:57.071695Z",
     "iopub.status.idle": "2023-07-27T12:23:57.084657Z",
     "shell.execute_reply": "2023-07-27T12:23:57.083232Z"
    },
    "papermill": {
     "duration": 0.021193,
     "end_time": "2023-07-27T12:23:57.086802",
     "exception": false,
     "start_time": "2023-07-27T12:23:57.065609",
     "status": "completed"
    },
    "tags": []
   },
   "outputs": [],
   "source": [
    "class Generator:\n",
    "    def __init__(self, DIR: str = '/kaggle/input/covid19-xrays/Covid19-dataset',\n",
    "                 category : List[str] = ['Covid', 'Normal', 'Viral Pneumonia'],\n",
    "                 mode : str = 'categorical',\n",
    "                 img_size : int = 256,\n",
    "                 batch_size : int = 16,\n",
    "                 shuffle : bool = True) -> None:\n",
    "        self.DIR = DIR\n",
    "        self.category = category\n",
    "        self.mode = mode\n",
    "        self.size = img_size\n",
    "        self.batch = batch_size\n",
    "        self.shuffle = shuffle\n",
    "\n",
    "        self.norm = Rescaling(1./255)\n",
    "    \n",
    "    def __augment__(self, img):\n",
    "        img = tf.image.random_flip_left_right(img)        \n",
    "        img = tf.image.random_flip_up_down(img)\n",
    "\n",
    "        return img\n",
    "    \n",
    "    def load_train(self):     \n",
    "        train_ds = image_dataset_from_directory(directory= self.DIR + '/train',\n",
    "                                                label_mode= self.mode,\n",
    "                                                class_names= self.category,\n",
    "                                                batch_size= self.batch,\n",
    "                                                image_size= (self.size, self.size),\n",
    "                                                shuffle= self.shuffle)           \n",
    "\n",
    "        # Normalize And Cache\n",
    "        train_ds = train_ds.map(lambda x, y: (self.norm(x), y),\n",
    "                                num_parallel_calls= tf.data.AUTOTUNE)\n",
    "        # Augment\n",
    "        train_ds = train_ds.map(lambda x, y: (self.__augment__(x), y), \n",
    "                                num_parallel_calls= tf.data.AUTOTUNE)\n",
    "        # Optimize\n",
    "        train_ds = train_ds.prefetch(tf.data.AUTOTUNE)\n",
    "        \n",
    "        return train_ds\n",
    "    \n",
    "    def load_test(self):\n",
    "        test_ds = image_dataset_from_directory(directory= self.DIR + '/test',\n",
    "                                                label_mode= self.mode,\n",
    "                                                class_names= self.category,\n",
    "                                                batch_size= 1,\n",
    "                                                image_size= (self.size, self.size),\n",
    "                                                shuffle= False)           \n",
    "\n",
    "        # Normalize And Cache\n",
    "        test_ds = test_ds.map(lambda x, y: (self.norm(x), y),\n",
    "                                num_parallel_calls= tf.data.AUTOTUNE)\n",
    "        test_ds = test_ds.prefetch(tf.data.AUTOTUNE)\n",
    "\n",
    "        return test_ds"
   ]
  },
  {
   "cell_type": "code",
   "execution_count": 3,
   "id": "8aaf3b54",
   "metadata": {
    "execution": {
     "iopub.execute_input": "2023-07-27T12:23:57.098000Z",
     "iopub.status.busy": "2023-07-27T12:23:57.097694Z",
     "iopub.status.idle": "2023-07-27T12:23:57.116934Z",
     "shell.execute_reply": "2023-07-27T12:23:57.116048Z"
    },
    "papermill": {
     "duration": 0.027455,
     "end_time": "2023-07-27T12:23:57.119131",
     "exception": false,
     "start_time": "2023-07-27T12:23:57.091676",
     "status": "completed"
    },
    "tags": []
   },
   "outputs": [],
   "source": [
    "class Xception:\n",
    "    def __init__(self, shape, num_classes) -> None:\n",
    "        self.shape = shape\n",
    "        self.num_classes = num_classes\n",
    "\n",
    "    def __entry__(self, inputs) :\n",
    "        x = layers.Conv2D(32, 3, strides = 2, padding='same')(inputs)\n",
    "        x = layers.BatchNormalization()(x)\n",
    "        x = layers.Activation('relu')(x)\n",
    "\n",
    "        x = layers.Conv2D(64,3,padding='same')(x)\n",
    "        x = layers.BatchNormalization()(x)\n",
    "        x = layers.Activation('relu')(x)\n",
    "\n",
    "        previous_block_activation = x\n",
    "\n",
    "        for size in [128, 256, 728] :\n",
    "\n",
    "            x = layers.Activation('relu')(x)\n",
    "            x = layers.SeparableConv2D(size, 3, padding='same')(x)\n",
    "            x = layers.BatchNormalization()(x)\n",
    "\n",
    "            x = layers.Activation('relu')(x)\n",
    "            x = layers.SeparableConv2D(size, 3, padding='same')(x)\n",
    "            x = layers.BatchNormalization()(x)\n",
    "\n",
    "            x = layers.MaxPooling2D(3, strides=2, padding='same')(x)\n",
    "\n",
    "            residual = layers.Conv2D(size, 1, strides=2, padding='same')(previous_block_activation)\n",
    "\n",
    "            x = layers.add([x, residual])\n",
    "            previous_block_activation = x\n",
    "\n",
    "        return x\n",
    "\n",
    "    def __middle__(self, x, num_blocks=8) :\n",
    "        previous_block_activation = x\n",
    "\n",
    "        for _ in range(num_blocks) :\n",
    "\n",
    "            x = layers.Activation('relu')(x)\n",
    "            x = layers.SeparableConv2D(728, 3, padding='same')(x)\n",
    "            x = layers.BatchNormalization()(x)\n",
    "\n",
    "            x = layers.Activation('relu')(x)\n",
    "            x = layers.SeparableConv2D(728, 3, padding='same')(x)\n",
    "            x = layers.BatchNormalization()(x)\n",
    "\n",
    "            x = layers.Activation('relu')(x)\n",
    "            x = layers.SeparableConv2D(728, 3, padding='same')(x)\n",
    "            x = layers.BatchNormalization()(x)\n",
    "\n",
    "            x = layers.add([x, previous_block_activation])\n",
    "            previous_block_activation = x\n",
    "\n",
    "        return x\n",
    "    \n",
    "    def __exit__(self, x, activation= 'softmax') :\n",
    "        previous_block_activation = x\n",
    "\n",
    "        x = layers.Activation('relu')(x)\n",
    "        x = layers.SeparableConv2D(728, 3, padding='same')(x)\n",
    "        x = layers.BatchNormalization()(x)\n",
    "\n",
    "        x = layers.Activation('relu')(x)\n",
    "        x = layers.SeparableConv2D(1024, 3, padding='same')(x) \n",
    "        x = layers.BatchNormalization()(x)\n",
    "\n",
    "        x = layers.MaxPooling2D(3, strides=2, padding='same')(x)\n",
    "\n",
    "        residual = layers.Conv2D(1024, 1, strides=2, padding='same')(previous_block_activation)\n",
    "        x = layers.add([x, residual])\n",
    "\n",
    "        x = layers.Activation('relu')(x)\n",
    "        x = layers.SeparableConv2D(728, 3, padding='same')(x)\n",
    "        x = layers.BatchNormalization()(x)\n",
    "\n",
    "        x = layers.Activation('relu')(x)\n",
    "        x = layers.SeparableConv2D(1024, 3, padding='same')(x)\n",
    "        x = layers.BatchNormalization()(x)\n",
    "\n",
    "        x = layers.GlobalAveragePooling2D()(x)\n",
    "        x = layers.Dense(self.num_classes, activation= activation)(x)\n",
    "\n",
    "        return x\n",
    "    \n",
    "    def load_model(self):\n",
    "        input = layers.Input(shape= self.shape)\n",
    "\n",
    "        x1 = self.__entry__(input)\n",
    "        x2 = self.__middle__(x1)\n",
    "\n",
    "        output = self.__exit__(x2)\n",
    "\n",
    "        model = Model(input, output)\n",
    "        return model"
   ]
  },
  {
   "cell_type": "code",
   "execution_count": 4,
   "id": "05d1e69a",
   "metadata": {
    "execution": {
     "iopub.execute_input": "2023-07-27T12:23:57.129852Z",
     "iopub.status.busy": "2023-07-27T12:23:57.129581Z",
     "iopub.status.idle": "2023-07-27T12:23:57.137803Z",
     "shell.execute_reply": "2023-07-27T12:23:57.136711Z"
    },
    "papermill": {
     "duration": 0.016185,
     "end_time": "2023-07-27T12:23:57.140108",
     "exception": false,
     "start_time": "2023-07-27T12:23:57.123923",
     "status": "completed"
    },
    "tags": []
   },
   "outputs": [],
   "source": [
    "class FBeta(tf.keras.metrics.Metric):\n",
    "    def __init__(self, name='f0.5_score', **kwargs):\n",
    "        super().__init__(name=name, **kwargs)\n",
    "        self.fb = self.add_weight(name='f_0.5', initializer='zeros')\n",
    "        self.precision_fn = Precision()\n",
    "        self.recall_fn = Recall()\n",
    "        self.beta = 0.5\n",
    "\n",
    "    def update_state(self, y_true, y_pred, sample_weight=None):\n",
    "        p = self.precision_fn(y_true, y_pred)\n",
    "        r = self.recall_fn(y_true, y_pred)\n",
    "        \n",
    "        beta_sq = self.beta ** 2\n",
    "        \n",
    "        self.fb.assign((beta_sq + 1)*(p * r)/(beta_sq * p + r + K.epsilon()))\n",
    "\n",
    "    def result(self):\n",
    "        return self.fb\n",
    "\n",
    "    def reset_state(self):\n",
    "        self.precision_fn.reset_state()\n",
    "        self.recall_fn.reset_state()\n",
    "        self.fb.assign(0)"
   ]
  },
  {
   "cell_type": "code",
   "execution_count": 5,
   "id": "e1564aeb",
   "metadata": {
    "execution": {
     "iopub.execute_input": "2023-07-27T12:23:57.152037Z",
     "iopub.status.busy": "2023-07-27T12:23:57.150645Z",
     "iopub.status.idle": "2023-07-27T12:24:00.636154Z",
     "shell.execute_reply": "2023-07-27T12:24:00.635191Z"
    },
    "papermill": {
     "duration": 3.494127,
     "end_time": "2023-07-27T12:24:00.638949",
     "exception": false,
     "start_time": "2023-07-27T12:23:57.144822",
     "status": "completed"
    },
    "tags": []
   },
   "outputs": [
    {
     "name": "stdout",
     "output_type": "stream",
     "text": [
      "Found 251 files belonging to 3 classes.\n",
      "Found 66 files belonging to 3 classes.\n"
     ]
    }
   ],
   "source": [
    "train_ds = Generator().load_train()\n",
    "val_ds = Generator().load_test()"
   ]
  },
  {
   "cell_type": "code",
   "execution_count": 6,
   "id": "228bd4b4",
   "metadata": {
    "execution": {
     "iopub.execute_input": "2023-07-27T12:24:00.651992Z",
     "iopub.status.busy": "2023-07-27T12:24:00.651001Z",
     "iopub.status.idle": "2023-07-27T12:24:00.659222Z",
     "shell.execute_reply": "2023-07-27T12:24:00.658307Z"
    },
    "papermill": {
     "duration": 0.016828,
     "end_time": "2023-07-27T12:24:00.661425",
     "exception": false,
     "start_time": "2023-07-27T12:24:00.644597",
     "status": "completed"
    },
    "tags": []
   },
   "outputs": [
    {
     "data": {
      "text/plain": [
       "(<_PrefetchDataset element_spec=(TensorSpec(shape=(None, 256, 256, 3), dtype=tf.float32, name=None), TensorSpec(shape=(None, 3), dtype=tf.float32, name=None))>,\n",
       " <_PrefetchDataset element_spec=(TensorSpec(shape=(None, 256, 256, 3), dtype=tf.float32, name=None), TensorSpec(shape=(None, 3), dtype=tf.float32, name=None))>)"
      ]
     },
     "execution_count": 6,
     "metadata": {},
     "output_type": "execute_result"
    }
   ],
   "source": [
    "train_ds, val_ds"
   ]
  },
  {
   "cell_type": "code",
   "execution_count": 7,
   "id": "7afec2c8",
   "metadata": {
    "execution": {
     "iopub.execute_input": "2023-07-27T12:24:00.674275Z",
     "iopub.status.busy": "2023-07-27T12:24:00.673959Z",
     "iopub.status.idle": "2023-07-27T12:24:00.682600Z",
     "shell.execute_reply": "2023-07-27T12:24:00.681708Z"
    },
    "papermill": {
     "duration": 0.017619,
     "end_time": "2023-07-27T12:24:00.684642",
     "exception": false,
     "start_time": "2023-07-27T12:24:00.667023",
     "status": "completed"
    },
    "tags": []
   },
   "outputs": [],
   "source": [
    "K.clear_session()"
   ]
  },
  {
   "cell_type": "code",
   "execution_count": 8,
   "id": "aaf36682",
   "metadata": {
    "execution": {
     "iopub.execute_input": "2023-07-27T12:24:00.698548Z",
     "iopub.status.busy": "2023-07-27T12:24:00.697151Z",
     "iopub.status.idle": "2023-07-27T12:24:02.128298Z",
     "shell.execute_reply": "2023-07-27T12:24:02.127296Z"
    },
    "papermill": {
     "duration": 1.440226,
     "end_time": "2023-07-27T12:24:02.130727",
     "exception": false,
     "start_time": "2023-07-27T12:24:00.690501",
     "status": "completed"
    },
    "tags": []
   },
   "outputs": [],
   "source": [
    "model = Xception(shape=(256, 256, 3), num_classes= 3).load_model()"
   ]
  },
  {
   "cell_type": "code",
   "execution_count": 9,
   "id": "4a86d1b7",
   "metadata": {
    "execution": {
     "iopub.execute_input": "2023-07-27T12:24:02.144474Z",
     "iopub.status.busy": "2023-07-27T12:24:02.143766Z",
     "iopub.status.idle": "2023-07-27T12:24:02.149166Z",
     "shell.execute_reply": "2023-07-27T12:24:02.148300Z"
    },
    "papermill": {
     "duration": 0.014794,
     "end_time": "2023-07-27T12:24:02.151449",
     "exception": false,
     "start_time": "2023-07-27T12:24:02.136655",
     "status": "completed"
    },
    "tags": []
   },
   "outputs": [],
   "source": [
    "early_stop = EarlyStopping(monitor= 'val_loss', mode= 'min', patience= 5)"
   ]
  },
  {
   "cell_type": "code",
   "execution_count": 10,
   "id": "1244bfee",
   "metadata": {
    "execution": {
     "iopub.execute_input": "2023-07-27T12:24:02.163910Z",
     "iopub.status.busy": "2023-07-27T12:24:02.163643Z",
     "iopub.status.idle": "2023-07-27T12:24:02.168190Z",
     "shell.execute_reply": "2023-07-27T12:24:02.167155Z"
    },
    "papermill": {
     "duration": 0.013351,
     "end_time": "2023-07-27T12:24:02.170319",
     "exception": false,
     "start_time": "2023-07-27T12:24:02.156968",
     "status": "completed"
    },
    "tags": []
   },
   "outputs": [],
   "source": [
    "learning_rate_reduction = ReduceLROnPlateau(monitor='val_loss', \n",
    "                                            patience=5,  \n",
    "                                            factor=0.5,                                            \n",
    "                                            min_lr=0.000001)"
   ]
  },
  {
   "cell_type": "code",
   "execution_count": 11,
   "id": "e54707ac",
   "metadata": {
    "execution": {
     "iopub.execute_input": "2023-07-27T12:24:02.181796Z",
     "iopub.status.busy": "2023-07-27T12:24:02.181532Z",
     "iopub.status.idle": "2023-07-27T12:24:02.213482Z",
     "shell.execute_reply": "2023-07-27T12:24:02.212545Z"
    },
    "papermill": {
     "duration": 0.040629,
     "end_time": "2023-07-27T12:24:02.216016",
     "exception": false,
     "start_time": "2023-07-27T12:24:02.175387",
     "status": "completed"
    },
    "tags": []
   },
   "outputs": [],
   "source": [
    "model.compile(optimizer= 'adam', \n",
    "              loss= 'categorical_crossentropy', \n",
    "              metrics= [FBeta()])"
   ]
  },
  {
   "cell_type": "code",
   "execution_count": 12,
   "id": "b0332e0f",
   "metadata": {
    "execution": {
     "iopub.execute_input": "2023-07-27T12:24:02.228615Z",
     "iopub.status.busy": "2023-07-27T12:24:02.228193Z",
     "iopub.status.idle": "2023-07-27T12:25:36.509497Z",
     "shell.execute_reply": "2023-07-27T12:25:36.508344Z"
    },
    "papermill": {
     "duration": 94.290148,
     "end_time": "2023-07-27T12:25:36.511934",
     "exception": false,
     "start_time": "2023-07-27T12:24:02.221786",
     "status": "completed"
    },
    "tags": []
   },
   "outputs": [
    {
     "name": "stdout",
     "output_type": "stream",
     "text": [
      "Epoch 1/30\n",
      "16/16 [==============================] - 56s 436ms/step - loss: 1.0482 - f0.5_score: 0.6407 - val_loss: 1.0908 - val_f0.5_score: 0.0000e+00 - lr: 0.0010\n",
      "Epoch 2/30\n",
      "16/16 [==============================] - 7s 341ms/step - loss: 0.4031 - f0.5_score: 0.8701 - val_loss: 1.0918 - val_f0.5_score: 0.0000e+00 - lr: 0.0010\n",
      "Epoch 3/30\n",
      "16/16 [==============================] - 7s 280ms/step - loss: 0.2254 - f0.5_score: 0.9124 - val_loss: 1.0972 - val_f0.5_score: 0.0000e+00 - lr: 0.0010\n",
      "Epoch 4/30\n",
      "16/16 [==============================] - 7s 315ms/step - loss: 0.2425 - f0.5_score: 0.9033 - val_loss: 1.1052 - val_f0.5_score: 0.0000e+00 - lr: 0.0010\n",
      "Epoch 5/30\n",
      "16/16 [==============================] - 7s 294ms/step - loss: 0.2204 - f0.5_score: 0.9222 - val_loss: 1.1177 - val_f0.5_score: 0.0000e+00 - lr: 0.0010\n",
      "Epoch 6/30\n",
      "16/16 [==============================] - 7s 323ms/step - loss: 0.1701 - f0.5_score: 0.9313 - val_loss: 1.1441 - val_f0.5_score: 0.3939 - lr: 0.0010\n"
     ]
    },
    {
     "data": {
      "text/plain": [
       "<keras.callbacks.History at 0x79b90c4ca560>"
      ]
     },
     "execution_count": 12,
     "metadata": {},
     "output_type": "execute_result"
    }
   ],
   "source": [
    "model.fit(train_ds,\n",
    "          validation_data= val_ds,\n",
    "          epochs= 30,\n",
    "          callbacks= [early_stop, learning_rate_reduction])"
   ]
  },
  {
   "cell_type": "code",
   "execution_count": 13,
   "id": "468986f5",
   "metadata": {
    "execution": {
     "iopub.execute_input": "2023-07-27T12:25:36.543685Z",
     "iopub.status.busy": "2023-07-27T12:25:36.543329Z",
     "iopub.status.idle": "2023-07-27T12:25:36.548000Z",
     "shell.execute_reply": "2023-07-27T12:25:36.546898Z"
    },
    "papermill": {
     "duration": 0.022957,
     "end_time": "2023-07-27T12:25:36.550487",
     "exception": false,
     "start_time": "2023-07-27T12:25:36.527530",
     "status": "completed"
    },
    "tags": []
   },
   "outputs": [],
   "source": [
    "import pandas as pd"
   ]
  },
  {
   "cell_type": "code",
   "execution_count": 14,
   "id": "00b697d9",
   "metadata": {
    "execution": {
     "iopub.execute_input": "2023-07-27T12:25:36.579767Z",
     "iopub.status.busy": "2023-07-27T12:25:36.579424Z",
     "iopub.status.idle": "2023-07-27T12:25:36.964032Z",
     "shell.execute_reply": "2023-07-27T12:25:36.963033Z"
    },
    "papermill": {
     "duration": 0.40212,
     "end_time": "2023-07-27T12:25:36.966399",
     "exception": false,
     "start_time": "2023-07-27T12:25:36.564279",
     "status": "completed"
    },
    "tags": []
   },
   "outputs": [
    {
     "data": {
      "text/plain": [
       "<Axes: >"
      ]
     },
     "execution_count": 14,
     "metadata": {},
     "output_type": "execute_result"
    },
    {
     "data": {
      "image/png": "[encoded data removed]",
      "text/plain": [
       "<Figure size 640x480 with 1 Axes>"
      ]
     },
     "metadata": {},
     "output_type": "display_data"
    }
   ],
   "source": [
    "hist = pd.DataFrame(model.history.history)\n",
    "hist.drop(['f0.5_score', 'val_f0.5_score', 'lr'], axis= 1, inplace= True)\n",
    "\n",
    "hist.plot()"
   ]
  },
  {
   "cell_type": "code",
   "execution_count": 15,
   "id": "eba444f6",
   "metadata": {
    "execution": {
     "iopub.execute_input": "2023-07-27T12:25:36.996471Z",
     "iopub.status.busy": "2023-07-27T12:25:36.996123Z",
     "iopub.status.idle": "2023-07-27T12:25:37.368045Z",
     "shell.execute_reply": "2023-07-27T12:25:37.366798Z"
    },
    "papermill": {
     "duration": 0.390545,
     "end_time": "2023-07-27T12:25:37.371187",
     "exception": false,
     "start_time": "2023-07-27T12:25:36.980642",
     "status": "completed"
    },
    "tags": []
   },
   "outputs": [
    {
     "data": {
      "text/plain": [
       "118"
      ]
     },
     "execution_count": 15,
     "metadata": {},
     "output_type": "execute_result"
    }
   ],
   "source": [
    "K.clear_session()\n",
    "\n",
    "del train_ds\n",
    "del val_ds\n",
    "\n",
    "import gc\n",
    "gc.collect()"
   ]
  }
 ],
 "metadata": {
  "kernelspec": {
   "display_name": "Python 3",
   "language": "python",
   "name": "python3"
  },
  "language_info": {
   "codemirror_mode": {
    "name": "ipython",
    "version": 3
   },
   "file_extension": ".py",
   "mimetype": "text/x-python",
   "name": "python",
   "nbconvert_exporter": "python",
   "pygments_lexer": "ipython3",
   "version": "3.10.12"
  },
  "papermill": {
   "default_parameters": {},
   "duration": 122.854008,
   "end_time": "2023-07-27T12:25:40.890232",
   "environment_variables": {},
   "exception": null,
   "input_path": "__notebook__.ipynb",
   "output_path": "__notebook__.ipynb",
   "parameters": {},
   "start_time": "2023-07-27T12:23:38.036224",
   "version": "2.4.0"
  }
 },
 "nbformat": 4,
 "nbformat_minor": 5
}
