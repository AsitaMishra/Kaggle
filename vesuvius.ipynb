{
 "cells": [
  {
   "cell_type": "code",
   "execution_count": 1,
   "id": "0817af36",
   "metadata": {
    "_cell_guid": "b1076dfc-b9ad-4769-8c92-a6c4dae69d19",
    "_uuid": "8f2839f25d086af736a60e9eeb907d3b93b6e0e5",
    "execution": {
     "iopub.execute_input": "2023-07-27T12:30:02.918033Z",
     "iopub.status.busy": "2023-07-27T12:30:02.917692Z",
     "iopub.status.idle": "2023-07-27T12:30:09.481285Z",
     "shell.execute_reply": "2023-07-27T12:30:09.480305Z"
    },
    "papermill": {
     "duration": 6.575756,
     "end_time": "2023-07-27T12:30:09.483961",
     "exception": false,
     "start_time": "2023-07-27T12:30:02.908205",
     "status": "completed"
    },
    "tags": []
   },
   "outputs": [
    {
     "name": "stderr",
     "output_type": "stream",
     "text": [
      "/opt/conda/lib/python3.10/site-packages/scipy/__init__.py:146: UserWarning: A NumPy version >=1.16.5 and <1.23.0 is required for this version of SciPy (detected version 1.23.5\n",
      "  warnings.warn(f\"A NumPy version >={np_minversion} and <{np_maxversion}\"\n"
     ]
    }
   ],
   "source": [
    "import PIL.Image as Image\n",
    "import numpy as np\n",
    "from tqdm import tqdm\n",
    "from glob import glob\n",
    "import random\n",
    "\n",
    "import tensorflow as tf\n",
    "from keras.models import Model\n",
    "from keras.layers import add, Input\n",
    "from keras.layers import Conv2D, Conv2DTranspose, BatchNormalization, MaxPooling2D\n",
    "from keras.layers import Concatenate, Activation\n",
    "from keras.callbacks import EarlyStopping\n",
    "from keras import backend"
   ]
  },
  {
   "cell_type": "code",
   "execution_count": 2,
   "id": "6048f8be",
   "metadata": {
    "execution": {
     "iopub.execute_input": "2023-07-27T12:30:09.498185Z",
     "iopub.status.busy": "2023-07-27T12:30:09.497595Z",
     "iopub.status.idle": "2023-07-27T12:30:09.502719Z",
     "shell.execute_reply": "2023-07-27T12:30:09.501688Z"
    },
    "papermill": {
     "duration": 0.014744,
     "end_time": "2023-07-27T12:30:09.505175",
     "exception": false,
     "start_time": "2023-07-27T12:30:09.490431",
     "status": "completed"
    },
    "tags": []
   },
   "outputs": [],
   "source": [
    "DATA_DIR = '/kaggle/input/vesuvius-challenge-ink-detection'\n",
    "HEIGHT = 4096 # Papyrus Height\n",
    "PATCH_SIZE = 256\n",
    "PATCH_HALFSIZE = PATCH_SIZE // 2\n",
    "Z_START = 25 # Offset in z direction\n",
    "Z_DIM = 16 # number of slices in z direction. Max value : 65 - Z_START\n",
    "BATCH_SIZE = 32\n"
   ]
  },
  {
   "cell_type": "code",
   "execution_count": 3,
   "id": "f89fd312",
   "metadata": {
    "execution": {
     "iopub.execute_input": "2023-07-27T12:30:09.518210Z",
     "iopub.status.busy": "2023-07-27T12:30:09.517941Z",
     "iopub.status.idle": "2023-07-27T12:30:09.528474Z",
     "shell.execute_reply": "2023-07-27T12:30:09.527515Z"
    },
    "papermill": {
     "duration": 0.019153,
     "end_time": "2023-07-27T12:30:09.530276",
     "exception": false,
     "start_time": "2023-07-27T12:30:09.511123",
     "status": "completed"
    },
    "tags": []
   },
   "outputs": [],
   "source": [
    "def resize(img):\n",
    "        curr_width, curr_height = img.size\n",
    "        aspect_ratio = curr_width / curr_height\n",
    "\n",
    "        width = int(HEIGHT * aspect_ratio)\n",
    "        size = (width, HEIGHT)\n",
    "\n",
    "        return img.resize(size)\n",
    "    \n",
    "def mask(split, index):\n",
    "        img = Image.open(f'{DATA_DIR}/{split}/{index}/mask.png').convert('1')\n",
    "        img = resize(img)\n",
    "\n",
    "        return np.array(img, dtype= 'bool')\n",
    "\n",
    "def label(split, index):\n",
    "        img = Image.open(f'{DATA_DIR}/{split}/{index}/inklabels.png').convert('1')\n",
    "        img = resize(img)\n",
    "\n",
    "        return np.array(img, dtype= 'bool')\n",
    "\n",
    "def volumes(split, index):\n",
    "        z_slices_fname = sorted(glob(f'{DATA_DIR}/{split}/{index}/surface_volume/*.tif'))[Z_START : \n",
    "                                                                                          Z_START + Z_DIM]\n",
    "        z_slices = []\n",
    "        for filename in tqdm(z_slices_fname):\n",
    "            img = Image.open(filename)\n",
    "            img = resize(img)\n",
    "\n",
    "            z_slice = np.array(img, dtype= 'float32')\n",
    "            z_slices.append(z_slice)\n",
    "        \n",
    "        return np.stack(z_slices, axis= -1)\n",
    "    \n",
    "def load_sample(split, index):\n",
    "        if split == 'train':\n",
    "            return mask(split, index), label(split, index), volumes(split, index)\n",
    "        return mask(split, index), volumes(split, index), None"
   ]
  },
  {
   "cell_type": "code",
   "execution_count": 4,
   "id": "9bf0425a",
   "metadata": {
    "execution": {
     "iopub.execute_input": "2023-07-27T12:30:09.543830Z",
     "iopub.status.busy": "2023-07-27T12:30:09.543055Z",
     "iopub.status.idle": "2023-07-27T12:34:43.098121Z",
     "shell.execute_reply": "2023-07-27T12:34:43.097105Z"
    },
    "papermill": {
     "duration": 273.564324,
     "end_time": "2023-07-27T12:34:43.100694",
     "exception": false,
     "start_time": "2023-07-27T12:30:09.536370",
     "status": "completed"
    },
    "tags": []
   },
   "outputs": [
    {
     "name": "stderr",
     "output_type": "stream",
     "text": [
      "100%|██████████| 16/16 [00:41<00:00,  2.62s/it]\n",
      "/opt/conda/lib/python3.10/site-packages/PIL/Image.py:3176: DecompressionBombWarning: Image size (140973980 pixels) exceeds limit of 89478485 pixels, could be decompression bomb DOS attack.\n",
      "  warnings.warn(\n",
      "100%|██████████| 16/16 [03:11<00:00, 11.96s/it]\n",
      "100%|██████████| 16/16 [00:33<00:00,  2.08s/it]\n"
     ]
    }
   ],
   "source": [
    "mask_1, label_1, vol_1 = load_sample(split= 'train', index= 1)\n",
    "mask_2, label_2, vol_2 = load_sample(split= 'train', index= 2)\n",
    "mask_3, label_3, vol_3 = load_sample(split= 'train', index= 3)"
   ]
  },
  {
   "cell_type": "code",
   "execution_count": 5,
   "id": "451b39b2",
   "metadata": {
    "execution": {
     "iopub.execute_input": "2023-07-27T12:34:43.124589Z",
     "iopub.status.busy": "2023-07-27T12:34:43.124203Z",
     "iopub.status.idle": "2023-07-27T12:34:43.131706Z",
     "shell.execute_reply": "2023-07-27T12:34:43.130624Z"
    },
    "papermill": {
     "duration": 0.022094,
     "end_time": "2023-07-27T12:34:43.133865",
     "exception": false,
     "start_time": "2023-07-27T12:34:43.111771",
     "status": "completed"
    },
    "tags": []
   },
   "outputs": [],
   "source": [
    "dev_folds = {\n",
    "    'dev_1': {\n",
    "        'train_volumes': [vol_1, vol_2],\n",
    "        'train_labels': [label_1, label_2],\n",
    "        'train_masks': [mask_1, mask_2],\n",
    "        'validation_volume': vol_3,\n",
    "        'validation_labels': label_3,\n",
    "        'validation_mask': mask_3,\n",
    "    },\n",
    "    'dev_2': {\n",
    "        'train_volumes': [vol_2, vol_3],\n",
    "        'train_labels': [label_2, label_3],\n",
    "        'train_masks': [mask_2, mask_3],\n",
    "        'validation_volume': vol_1,\n",
    "        'validation_labels': label_1,\n",
    "        'validation_mask': mask_1,\n",
    "    },\n",
    "    'dev_3': {\n",
    "        'train_volumes': [vol_1, vol_3],\n",
    "        'train_labels': [label_1, label_3],\n",
    "        'train_masks': [mask_1, mask_3],\n",
    "        'validation_volume': vol_2,\n",
    "        'validation_labels': label_2,\n",
    "        'validation_mask': mask_2,\n",
    "    }\n",
    "}"
   ]
  },
  {
   "cell_type": "code",
   "execution_count": 6,
   "id": "ff145bf0",
   "metadata": {
    "execution": {
     "iopub.execute_input": "2023-07-27T12:34:43.158875Z",
     "iopub.status.busy": "2023-07-27T12:34:43.158526Z",
     "iopub.status.idle": "2023-07-27T12:34:43.174887Z",
     "shell.execute_reply": "2023-07-27T12:34:43.173734Z"
    },
    "papermill": {
     "duration": 0.03221,
     "end_time": "2023-07-27T12:34:43.177680",
     "exception": false,
     "start_time": "2023-07-27T12:34:43.145470",
     "status": "completed"
    },
    "tags": []
   },
   "outputs": [],
   "source": [
    "def sample_random_location(shape):\n",
    "    x = random.randint(PATCH_HALFSIZE, shape[0] - PATCH_HALFSIZE - 1)\n",
    "    y = random.randint(PATCH_HALFSIZE, shape[1] - PATCH_HALFSIZE - 1)\n",
    "    return (x, y)\n",
    "\n",
    "\n",
    "def list_all_locations(mask, stride= PATCH_HALFSIZE):\n",
    "    locations = []\n",
    "    for x in range(PATCH_HALFSIZE, mask.shape[0] - PATCH_HALFSIZE, stride):\n",
    "        for y in range(PATCH_HALFSIZE, mask.shape[1] - PATCH_HALFSIZE, stride):\n",
    "            if mask[x, y]:\n",
    "                locations.append((x, y))\n",
    "    return locations\n",
    "\n",
    "\n",
    "def extract_subvolume(location, volume):\n",
    "    x = location[0]\n",
    "    y = location[1]\n",
    "    subvolume = volume[x - PATCH_HALFSIZE :x + PATCH_HALFSIZE,\n",
    "                       y - PATCH_HALFSIZE :y + PATCH_HALFSIZE, :]\n",
    "    subvolume = subvolume.astype('float32') / 65535.\n",
    "    return subvolume\n",
    "\n",
    "\n",
    "def extract_labels(location, labels):\n",
    "    x = location[0]\n",
    "    y = location[1]\n",
    "    label = labels[x - PATCH_HALFSIZE :x + PATCH_HALFSIZE,\n",
    "                    y - PATCH_HALFSIZE :y + PATCH_HALFSIZE]\n",
    "    label = label.astype('float32')\n",
    "    label = np.expand_dims(label, axis=-1)\n",
    "    return label\n",
    "\n",
    "# Generator For Training Data\n",
    "def make_random_data_generator(volume, mask, labels):\n",
    "    def data_generator():\n",
    "        while True:\n",
    "            loc = sample_random_location(mask.shape)\n",
    "            if mask[loc[0], loc[1]]:\n",
    "                subvolume = extract_subvolume(loc, volume)\n",
    "                label = extract_labels(loc, labels)\n",
    "                yield (subvolume, label)\n",
    "    return data_generator\n",
    "\n",
    "# Generator For Validation Data\n",
    "def make_iterated_data_generator(volume, mask, labels= None):\n",
    "    locations = list_all_locations(mask)\n",
    "    def data_generator():\n",
    "        for loc in locations:\n",
    "            subvolume = extract_subvolume(loc, volume)\n",
    "            if labels is None:\n",
    "                yield subvolume\n",
    "            else:\n",
    "                label = extract_labels(loc, labels)\n",
    "                yield (subvolume, label)\n",
    "    return data_generator\n",
    "\n",
    "\n",
    "def make_tf_dataset(gen_fn, labeled= True):\n",
    "    if labeled:\n",
    "        output_signature = (\n",
    "            tf.TensorSpec(shape=(PATCH_SIZE, PATCH_SIZE, Z_DIM), dtype=tf.float32),\n",
    "            tf.TensorSpec(shape=(PATCH_SIZE, PATCH_SIZE, 1), dtype=tf.float32),\n",
    "        )\n",
    "    else:\n",
    "        output_signature = tf.TensorSpec(shape=(PATCH_SIZE, PATCH_SIZE, Z_DIM), dtype=tf.float32)\n",
    "    ds = tf.data.Dataset.from_generator(\n",
    "        gen_fn,\n",
    "        output_signature=output_signature,\n",
    "    )\n",
    "    return ds.batch(BATCH_SIZE)"
   ]
  },
  {
   "cell_type": "code",
   "execution_count": 7,
   "id": "a665a1c3",
   "metadata": {
    "execution": {
     "iopub.execute_input": "2023-07-27T12:34:43.200104Z",
     "iopub.status.busy": "2023-07-27T12:34:43.199820Z",
     "iopub.status.idle": "2023-07-27T12:34:43.207617Z",
     "shell.execute_reply": "2023-07-27T12:34:43.206642Z"
    },
    "papermill": {
     "duration": 0.020864,
     "end_time": "2023-07-27T12:34:43.209480",
     "exception": false,
     "start_time": "2023-07-27T12:34:43.188616",
     "status": "completed"
    },
    "tags": []
   },
   "outputs": [],
   "source": [
    "def make_datasets_for_fold(fold, train_augment_fn= None):\n",
    "    train_volumes = fold['train_volumes']\n",
    "    train_masks = fold['train_masks']\n",
    "    train_labels = fold['train_labels']\n",
    "\n",
    "    include_validation = 'validation_volume' in fold\n",
    "    if include_validation:\n",
    "        validation_volume = fold['validation_volume']\n",
    "        validation_mask = fold['validation_mask']\n",
    "        validation_labels = fold['validation_labels']\n",
    "\n",
    "    all_train_ds = []\n",
    "    for volume, mask, labels in zip(train_volumes, train_masks, train_labels):\n",
    "        train_ds = make_tf_dataset(\n",
    "            make_random_data_generator(volume, mask, labels),\n",
    "            labeled= True,\n",
    "        )\n",
    "        all_train_ds.append(train_ds)\n",
    "    train_ds = tf.data.Dataset.sample_from_datasets(all_train_ds)\n",
    "\n",
    "    if train_augment_fn:\n",
    "        train_ds = train_ds.map(train_augment_fn, num_parallel_calls= tf.data.AUTOTUNE)\n",
    "    train_ds = train_ds.prefetch(tf.data.AUTOTUNE)\n",
    "\n",
    "    if not include_validation:\n",
    "        return train_ds\n",
    "\n",
    "    val_ds = make_tf_dataset(\n",
    "        make_iterated_data_generator(validation_volume, validation_mask, validation_labels),\n",
    "        labeled= True,\n",
    "    )\n",
    "    return (train_ds, val_ds)"
   ]
  },
  {
   "cell_type": "code",
   "execution_count": 8,
   "id": "1490ac60",
   "metadata": {
    "execution": {
     "iopub.execute_input": "2023-07-27T12:34:43.232758Z",
     "iopub.status.busy": "2023-07-27T12:34:43.231356Z",
     "iopub.status.idle": "2023-07-27T12:34:43.237928Z",
     "shell.execute_reply": "2023-07-27T12:34:43.237105Z"
    },
    "papermill": {
     "duration": 0.019682,
     "end_time": "2023-07-27T12:34:43.239912",
     "exception": false,
     "start_time": "2023-07-27T12:34:43.220230",
     "status": "completed"
    },
    "tags": []
   },
   "outputs": [],
   "source": [
    "def trivial_baseline(dataset):\n",
    "    total = 0\n",
    "    matches = 0.\n",
    "    for _, batch_label in dataset:\n",
    "        matches += tf.reduce_sum(tf.cast(batch_label, 'float32'))\n",
    "        total += tf.reduce_prod(tf.shape(batch_label))\n",
    "    return 1. - matches / tf.cast(total, 'float32')"
   ]
  },
  {
   "cell_type": "code",
   "execution_count": 9,
   "id": "94d5ebe5",
   "metadata": {
    "execution": {
     "iopub.execute_input": "2023-07-27T12:34:43.261816Z",
     "iopub.status.busy": "2023-07-27T12:34:43.261009Z",
     "iopub.status.idle": "2023-07-27T12:34:48.417144Z",
     "shell.execute_reply": "2023-07-27T12:34:48.415929Z"
    },
    "papermill": {
     "duration": 5.169455,
     "end_time": "2023-07-27T12:34:48.419500",
     "exception": false,
     "start_time": "2023-07-27T12:34:43.250045",
     "status": "completed"
    },
    "tags": []
   },
   "outputs": [
    {
     "name": "stdout",
     "output_type": "stream",
     "text": [
      "Best validation score achievable trivially [fold 1]: 87.46% accuracy\n"
     ]
    }
   ],
   "source": [
    "train_ds, val_ds = make_datasets_for_fold(fold= dev_folds['dev_1'])\n",
    "score = trivial_baseline(val_ds)\n",
    "print(f\"Best validation score achievable trivially [fold 1]: {score * 100:.2f}% accuracy\")"
   ]
  },
  {
   "cell_type": "code",
   "execution_count": 10,
   "id": "5aee703a",
   "metadata": {
    "execution": {
     "iopub.execute_input": "2023-07-27T12:34:48.443430Z",
     "iopub.status.busy": "2023-07-27T12:34:48.443105Z",
     "iopub.status.idle": "2023-07-27T12:34:48.456974Z",
     "shell.execute_reply": "2023-07-27T12:34:48.456087Z"
    },
    "papermill": {
     "duration": 0.028079,
     "end_time": "2023-07-27T12:34:48.459003",
     "exception": false,
     "start_time": "2023-07-27T12:34:48.430924",
     "status": "completed"
    },
    "tags": []
   },
   "outputs": [],
   "source": [
    "class Unet:\n",
    "\n",
    "    def __init__(self, filter : int = 64) -> None:\n",
    "        self.FILTER_NUM = filter\n",
    "    \n",
    "    def __conv__(self, input, num_filters):\n",
    "        x = Conv2D(num_filters, 3, padding= 'same', kernel_regularizer= 'l2')(input)\n",
    "        x = BatchNormalization()(x)\n",
    "        x = Activation('relu')(x)\n",
    "\n",
    "        x = Conv2D(num_filters, 3, padding= 'same', kernel_regularizer= 'l2')(input)\n",
    "        x = BatchNormalization()(x)\n",
    "        \n",
    "        shortcut = Conv2D(num_filters, 1, padding= 'same')(input)\n",
    "        shortcut = BatchNormalization()(shortcut)\n",
    "\n",
    "        res_path = add([shortcut, x])\n",
    "        res_path = Activation('relu')(res_path)\n",
    "\n",
    "        return res_path\n",
    "    \n",
    "    def __encoder__(self, input, num_filters):\n",
    "        s = self.__conv__(input, num_filters)\n",
    "        p = MaxPooling2D(2)(s)\n",
    "\n",
    "        return s, p\n",
    "\n",
    "    def __decoder__(self, input, skip_features, num_filters):\n",
    "        d = Conv2DTranspose(num_filters, 3, strides= 2, padding= 'same')(input)\n",
    "        d = Concatenate()([d, skip_features])\n",
    "        d = self.__conv__(d, num_filters)\n",
    "\n",
    "        return d\n",
    "    \n",
    "    def gen_Unet(self, input_shape : any) -> Model:\n",
    "        '''\n",
    "        Generates A Residual Attention UNet Model \\n\n",
    "        '''\n",
    "        input = Input(input_shape)\n",
    "\n",
    "        # Encoder Block\n",
    "        s1, p1 = self.__encoder__(input, self.FILTER_NUM)\n",
    "        s2, p2 = self.__encoder__(p1, 2 * self.FILTER_NUM)\n",
    "        s3, p3 = self.__encoder__(p2, 4 * self.FILTER_NUM)\n",
    "        s4, p4 = self.__encoder__(p3, 8 * self.FILTER_NUM)\n",
    "\n",
    "        # Base Block\n",
    "        b = self.__conv__(p4, 16 * self.FILTER_NUM)\n",
    "\n",
    "        # Decoder Block\n",
    "        d1 = self.__decoder__(b, s4, 8 * self.FILTER_NUM)\n",
    "        d2 = self.__decoder__(d1, s3, 4 * self.FILTER_NUM)\n",
    "        d3 = self.__decoder__(d2, s2, 2 * self.FILTER_NUM)\n",
    "        d4 = self.__decoder__(d3, s1, self.FILTER_NUM)\n",
    "\n",
    "        # Output\n",
    "        output = Conv2D(1, 1, activation= 'sigmoid', padding= 'same')(d4)\n",
    "        \n",
    "        model = Model(input, output)\n",
    "        model.summary()\n",
    "        return model"
   ]
  },
  {
   "cell_type": "code",
   "execution_count": 11,
   "id": "0829bb4e",
   "metadata": {
    "execution": {
     "iopub.execute_input": "2023-07-27T12:34:48.481211Z",
     "iopub.status.busy": "2023-07-27T12:34:48.480889Z",
     "iopub.status.idle": "2023-07-27T12:34:48.485561Z",
     "shell.execute_reply": "2023-07-27T12:34:48.484596Z"
    },
    "papermill": {
     "duration": 0.018111,
     "end_time": "2023-07-27T12:34:48.487563",
     "exception": false,
     "start_time": "2023-07-27T12:34:48.469452",
     "status": "completed"
    },
    "tags": []
   },
   "outputs": [],
   "source": [
    "earlystop = EarlyStopping(monitor= 'val_loss', mode= 'min', patience= 5, start_from_epoch= 5)"
   ]
  },
  {
   "cell_type": "code",
   "execution_count": 12,
   "id": "5e140343",
   "metadata": {
    "execution": {
     "iopub.execute_input": "2023-07-27T12:34:48.509120Z",
     "iopub.status.busy": "2023-07-27T12:34:48.508862Z",
     "iopub.status.idle": "2023-07-27T12:34:49.446315Z",
     "shell.execute_reply": "2023-07-27T12:34:49.445526Z"
    },
    "papermill": {
     "duration": 1.099303,
     "end_time": "2023-07-27T12:34:49.597159",
     "exception": false,
     "start_time": "2023-07-27T12:34:48.497856",
     "status": "completed"
    },
    "tags": []
   },
   "outputs": [
    {
     "name": "stdout",
     "output_type": "stream",
     "text": [
      "Model: \"model\"\n",
      "__________________________________________________________________________________________________\n",
      " Layer (type)                   Output Shape         Param #     Connected to                     \n",
      "==================================================================================================\n",
      " input_1 (InputLayer)           [(None, 256, 256, 1  0           []                               \n",
      "                                6)]                                                               \n",
      "                                                                                                  \n",
      " conv2d_2 (Conv2D)              (None, 256, 256, 64  1088        ['input_1[0][0]']                \n",
      "                                )                                                                 \n",
      "                                                                                                  \n",
      " conv2d_1 (Conv2D)              (None, 256, 256, 64  9280        ['input_1[0][0]']                \n",
      "                                )                                                                 \n",
      "                                                                                                  \n",
      " batch_normalization_2 (BatchNo  (None, 256, 256, 64  256        ['conv2d_2[0][0]']               \n",
      " rmalization)                   )                                                                 \n",
      "                                                                                                  \n",
      " batch_normalization_1 (BatchNo  (None, 256, 256, 64  256        ['conv2d_1[0][0]']               \n",
      " rmalization)                   )                                                                 \n",
      "                                                                                                  \n",
      " add (Add)                      (None, 256, 256, 64  0           ['batch_normalization_2[0][0]',  \n",
      "                                )                                 'batch_normalization_1[0][0]']  \n",
      "                                                                                                  \n",
      " activation_1 (Activation)      (None, 256, 256, 64  0           ['add[0][0]']                    \n",
      "                                )                                                                 \n",
      "                                                                                                  \n",
      " max_pooling2d (MaxPooling2D)   (None, 128, 128, 64  0           ['activation_1[0][0]']           \n",
      "                                )                                                                 \n",
      "                                                                                                  \n",
      " conv2d_5 (Conv2D)              (None, 128, 128, 12  8320        ['max_pooling2d[0][0]']          \n",
      "                                8)                                                                \n",
      "                                                                                                  \n",
      " conv2d_4 (Conv2D)              (None, 128, 128, 12  73856       ['max_pooling2d[0][0]']          \n",
      "                                8)                                                                \n",
      "                                                                                                  \n",
      " batch_normalization_5 (BatchNo  (None, 128, 128, 12  512        ['conv2d_5[0][0]']               \n",
      " rmalization)                   8)                                                                \n",
      "                                                                                                  \n",
      " batch_normalization_4 (BatchNo  (None, 128, 128, 12  512        ['conv2d_4[0][0]']               \n",
      " rmalization)                   8)                                                                \n",
      "                                                                                                  \n",
      " add_1 (Add)                    (None, 128, 128, 12  0           ['batch_normalization_5[0][0]',  \n",
      "                                8)                                'batch_normalization_4[0][0]']  \n",
      "                                                                                                  \n",
      " activation_3 (Activation)      (None, 128, 128, 12  0           ['add_1[0][0]']                  \n",
      "                                8)                                                                \n",
      "                                                                                                  \n",
      " max_pooling2d_1 (MaxPooling2D)  (None, 64, 64, 128)  0          ['activation_3[0][0]']           \n",
      "                                                                                                  \n",
      " conv2d_8 (Conv2D)              (None, 64, 64, 256)  33024       ['max_pooling2d_1[0][0]']        \n",
      "                                                                                                  \n",
      " conv2d_7 (Conv2D)              (None, 64, 64, 256)  295168      ['max_pooling2d_1[0][0]']        \n",
      "                                                                                                  \n",
      " batch_normalization_8 (BatchNo  (None, 64, 64, 256)  1024       ['conv2d_8[0][0]']               \n",
      " rmalization)                                                                                     \n",
      "                                                                                                  \n",
      " batch_normalization_7 (BatchNo  (None, 64, 64, 256)  1024       ['conv2d_7[0][0]']               \n",
      " rmalization)                                                                                     \n",
      "                                                                                                  \n",
      " add_2 (Add)                    (None, 64, 64, 256)  0           ['batch_normalization_8[0][0]',  \n",
      "                                                                  'batch_normalization_7[0][0]']  \n",
      "                                                                                                  \n",
      " activation_5 (Activation)      (None, 64, 64, 256)  0           ['add_2[0][0]']                  \n",
      "                                                                                                  \n",
      " max_pooling2d_2 (MaxPooling2D)  (None, 32, 32, 256)  0          ['activation_5[0][0]']           \n",
      "                                                                                                  \n",
      " conv2d_11 (Conv2D)             (None, 32, 32, 512)  131584      ['max_pooling2d_2[0][0]']        \n",
      "                                                                                                  \n",
      " conv2d_10 (Conv2D)             (None, 32, 32, 512)  1180160     ['max_pooling2d_2[0][0]']        \n",
      "                                                                                                  \n",
      " batch_normalization_11 (BatchN  (None, 32, 32, 512)  2048       ['conv2d_11[0][0]']              \n",
      " ormalization)                                                                                    \n",
      "                                                                                                  \n",
      " batch_normalization_10 (BatchN  (None, 32, 32, 512)  2048       ['conv2d_10[0][0]']              \n",
      " ormalization)                                                                                    \n",
      "                                                                                                  \n",
      " add_3 (Add)                    (None, 32, 32, 512)  0           ['batch_normalization_11[0][0]', \n",
      "                                                                  'batch_normalization_10[0][0]'] \n",
      "                                                                                                  \n",
      " activation_7 (Activation)      (None, 32, 32, 512)  0           ['add_3[0][0]']                  \n",
      "                                                                                                  \n",
      " max_pooling2d_3 (MaxPooling2D)  (None, 16, 16, 512)  0          ['activation_7[0][0]']           \n",
      "                                                                                                  \n",
      " conv2d_14 (Conv2D)             (None, 16, 16, 1024  525312      ['max_pooling2d_3[0][0]']        \n",
      "                                )                                                                 \n",
      "                                                                                                  \n",
      " conv2d_13 (Conv2D)             (None, 16, 16, 1024  4719616     ['max_pooling2d_3[0][0]']        \n",
      "                                )                                                                 \n",
      "                                                                                                  \n",
      " batch_normalization_14 (BatchN  (None, 16, 16, 1024  4096       ['conv2d_14[0][0]']              \n",
      " ormalization)                  )                                                                 \n",
      "                                                                                                  \n",
      " batch_normalization_13 (BatchN  (None, 16, 16, 1024  4096       ['conv2d_13[0][0]']              \n",
      " ormalization)                  )                                                                 \n",
      "                                                                                                  \n",
      " add_4 (Add)                    (None, 16, 16, 1024  0           ['batch_normalization_14[0][0]', \n",
      "                                )                                 'batch_normalization_13[0][0]'] \n",
      "                                                                                                  \n",
      " activation_9 (Activation)      (None, 16, 16, 1024  0           ['add_4[0][0]']                  \n",
      "                                )                                                                 \n",
      "                                                                                                  \n",
      " conv2d_transpose (Conv2DTransp  (None, 32, 32, 512)  4719104    ['activation_9[0][0]']           \n",
      " ose)                                                                                             \n",
      "                                                                                                  \n",
      " concatenate (Concatenate)      (None, 32, 32, 1024  0           ['conv2d_transpose[0][0]',       \n",
      "                                )                                 'activation_7[0][0]']           \n",
      "                                                                                                  \n",
      " conv2d_17 (Conv2D)             (None, 32, 32, 512)  524800      ['concatenate[0][0]']            \n",
      "                                                                                                  \n",
      " conv2d_16 (Conv2D)             (None, 32, 32, 512)  4719104     ['concatenate[0][0]']            \n",
      "                                                                                                  \n",
      " batch_normalization_17 (BatchN  (None, 32, 32, 512)  2048       ['conv2d_17[0][0]']              \n",
      " ormalization)                                                                                    \n",
      "                                                                                                  \n",
      " batch_normalization_16 (BatchN  (None, 32, 32, 512)  2048       ['conv2d_16[0][0]']              \n",
      " ormalization)                                                                                    \n",
      "                                                                                                  \n",
      " add_5 (Add)                    (None, 32, 32, 512)  0           ['batch_normalization_17[0][0]', \n",
      "                                                                  'batch_normalization_16[0][0]'] \n",
      "                                                                                                  \n",
      " activation_11 (Activation)     (None, 32, 32, 512)  0           ['add_5[0][0]']                  \n",
      "                                                                                                  \n",
      " conv2d_transpose_1 (Conv2DTran  (None, 64, 64, 256)  1179904    ['activation_11[0][0]']          \n",
      " spose)                                                                                           \n",
      "                                                                                                  \n",
      " concatenate_1 (Concatenate)    (None, 64, 64, 512)  0           ['conv2d_transpose_1[0][0]',     \n",
      "                                                                  'activation_5[0][0]']           \n",
      "                                                                                                  \n",
      " conv2d_20 (Conv2D)             (None, 64, 64, 256)  131328      ['concatenate_1[0][0]']          \n",
      "                                                                                                  \n",
      " conv2d_19 (Conv2D)             (None, 64, 64, 256)  1179904     ['concatenate_1[0][0]']          \n",
      "                                                                                                  \n",
      " batch_normalization_20 (BatchN  (None, 64, 64, 256)  1024       ['conv2d_20[0][0]']              \n",
      " ormalization)                                                                                    \n",
      "                                                                                                  \n",
      " batch_normalization_19 (BatchN  (None, 64, 64, 256)  1024       ['conv2d_19[0][0]']              \n",
      " ormalization)                                                                                    \n",
      "                                                                                                  \n",
      " add_6 (Add)                    (None, 64, 64, 256)  0           ['batch_normalization_20[0][0]', \n",
      "                                                                  'batch_normalization_19[0][0]'] \n",
      "                                                                                                  \n",
      " activation_13 (Activation)     (None, 64, 64, 256)  0           ['add_6[0][0]']                  \n",
      "                                                                                                  \n",
      " conv2d_transpose_2 (Conv2DTran  (None, 128, 128, 12  295040     ['activation_13[0][0]']          \n",
      " spose)                         8)                                                                \n",
      "                                                                                                  \n",
      " concatenate_2 (Concatenate)    (None, 128, 128, 25  0           ['conv2d_transpose_2[0][0]',     \n",
      "                                6)                                'activation_3[0][0]']           \n",
      "                                                                                                  \n",
      " conv2d_23 (Conv2D)             (None, 128, 128, 12  32896       ['concatenate_2[0][0]']          \n",
      "                                8)                                                                \n",
      "                                                                                                  \n",
      " conv2d_22 (Conv2D)             (None, 128, 128, 12  295040      ['concatenate_2[0][0]']          \n",
      "                                8)                                                                \n",
      "                                                                                                  \n",
      " batch_normalization_23 (BatchN  (None, 128, 128, 12  512        ['conv2d_23[0][0]']              \n",
      " ormalization)                  8)                                                                \n",
      "                                                                                                  \n",
      " batch_normalization_22 (BatchN  (None, 128, 128, 12  512        ['conv2d_22[0][0]']              \n",
      " ormalization)                  8)                                                                \n",
      "                                                                                                  \n",
      " add_7 (Add)                    (None, 128, 128, 12  0           ['batch_normalization_23[0][0]', \n",
      "                                8)                                'batch_normalization_22[0][0]'] \n",
      "                                                                                                  \n",
      " activation_15 (Activation)     (None, 128, 128, 12  0           ['add_7[0][0]']                  \n",
      "                                8)                                                                \n",
      "                                                                                                  \n",
      " conv2d_transpose_3 (Conv2DTran  (None, 256, 256, 64  73792      ['activation_15[0][0]']          \n",
      " spose)                         )                                                                 \n",
      "                                                                                                  \n",
      " concatenate_3 (Concatenate)    (None, 256, 256, 12  0           ['conv2d_transpose_3[0][0]',     \n",
      "                                8)                                'activation_1[0][0]']           \n",
      "                                                                                                  \n",
      " conv2d_26 (Conv2D)             (None, 256, 256, 64  8256        ['concatenate_3[0][0]']          \n",
      "                                )                                                                 \n",
      "                                                                                                  \n",
      " conv2d_25 (Conv2D)             (None, 256, 256, 64  73792       ['concatenate_3[0][0]']          \n",
      "                                )                                                                 \n",
      "                                                                                                  \n",
      " batch_normalization_26 (BatchN  (None, 256, 256, 64  256        ['conv2d_26[0][0]']              \n",
      " ormalization)                  )                                                                 \n",
      "                                                                                                  \n",
      " batch_normalization_25 (BatchN  (None, 256, 256, 64  256        ['conv2d_25[0][0]']              \n",
      " ormalization)                  )                                                                 \n",
      "                                                                                                  \n",
      " add_8 (Add)                    (None, 256, 256, 64  0           ['batch_normalization_26[0][0]', \n",
      "                                )                                 'batch_normalization_25[0][0]'] \n",
      "                                                                                                  \n",
      " activation_17 (Activation)     (None, 256, 256, 64  0           ['add_8[0][0]']                  \n",
      "                                )                                                                 \n",
      "                                                                                                  \n",
      " conv2d_27 (Conv2D)             (None, 256, 256, 1)  65          ['activation_17[0][0]']          \n",
      "                                                                                                  \n",
      "==================================================================================================\n",
      "Total params: 20,233,985\n",
      "Trainable params: 20,222,209\n",
      "Non-trainable params: 11,776\n",
      "__________________________________________________________________________________________________\n"
     ]
    }
   ],
   "source": [
    "backend.clear_session()\n",
    "\n",
    "model = Unet()\n",
    "model = model.gen_Unet(input_shape= (PATCH_SIZE, PATCH_SIZE, Z_DIM))"
   ]
  },
  {
   "cell_type": "code",
   "execution_count": 13,
   "id": "2ff1aaaf",
   "metadata": {
    "execution": {
     "iopub.execute_input": "2023-07-27T12:34:49.651061Z",
     "iopub.status.busy": "2023-07-27T12:34:49.650681Z",
     "iopub.status.idle": "2023-07-27T12:34:49.671012Z",
     "shell.execute_reply": "2023-07-27T12:34:49.670043Z"
    },
    "papermill": {
     "duration": 0.049344,
     "end_time": "2023-07-27T12:34:49.673097",
     "exception": false,
     "start_time": "2023-07-27T12:34:49.623753",
     "status": "completed"
    },
    "tags": []
   },
   "outputs": [],
   "source": [
    "model.compile(optimizer= 'adam', loss= 'binary_crossentropy', metrics= ['accuracy'])"
   ]
  },
  {
   "cell_type": "code",
   "execution_count": 14,
   "id": "a51190f2",
   "metadata": {
    "execution": {
     "iopub.execute_input": "2023-07-27T12:34:49.723257Z",
     "iopub.status.busy": "2023-07-27T12:34:49.722972Z",
     "iopub.status.idle": "2023-07-27T12:54:56.491283Z",
     "shell.execute_reply": "2023-07-27T12:54:56.490278Z"
    },
    "papermill": {
     "duration": 1206.795951,
     "end_time": "2023-07-27T12:54:56.493500",
     "exception": false,
     "start_time": "2023-07-27T12:34:49.697549",
     "status": "completed"
    },
    "tags": []
   },
   "outputs": [
    {
     "name": "stdout",
     "output_type": "stream",
     "text": [
      "Epoch 1/25\n",
      "100/100 [==============================] - 111s 868ms/step - loss: 2.9009 - accuracy: 0.8130 - val_loss: 0.6393 - val_accuracy: 0.8746\n",
      "Epoch 2/25\n",
      "100/100 [==============================] - 84s 843ms/step - loss: 0.4995 - accuracy: 0.8286 - val_loss: 0.4883 - val_accuracy: 0.8746\n",
      "Epoch 3/25\n",
      "100/100 [==============================] - 84s 842ms/step - loss: 0.4597 - accuracy: 0.8397 - val_loss: 0.6028 - val_accuracy: 0.8746\n",
      "Epoch 4/25\n",
      "100/100 [==============================] - 84s 839ms/step - loss: 0.4575 - accuracy: 0.8442 - val_loss: 0.6594 - val_accuracy: 0.8746\n",
      "Epoch 5/25\n",
      "100/100 [==============================] - 84s 841ms/step - loss: 0.4434 - accuracy: 0.8483 - val_loss: 0.4635 - val_accuracy: 0.8700\n",
      "Epoch 6/25\n",
      "100/100 [==============================] - 84s 842ms/step - loss: 0.4416 - accuracy: 0.8510 - val_loss: 0.5297 - val_accuracy: 0.8746\n",
      "Epoch 7/25\n",
      "100/100 [==============================] - 84s 845ms/step - loss: 0.4501 - accuracy: 0.8509 - val_loss: 0.4846 - val_accuracy: 0.8751\n",
      "Epoch 8/25\n",
      "100/100 [==============================] - 84s 842ms/step - loss: 0.4340 - accuracy: 0.8570 - val_loss: 0.4695 - val_accuracy: 0.8665\n",
      "Epoch 9/25\n",
      "100/100 [==============================] - 84s 843ms/step - loss: 0.4297 - accuracy: 0.8590 - val_loss: 0.4661 - val_accuracy: 0.8727\n",
      "Epoch 10/25\n",
      "100/100 [==============================] - 85s 850ms/step - loss: 0.4281 - accuracy: 0.8624 - val_loss: 0.4915 - val_accuracy: 0.8350\n",
      "Epoch 11/25\n",
      "100/100 [==============================] - 84s 843ms/step - loss: 0.4222 - accuracy: 0.8667 - val_loss: 0.7262 - val_accuracy: 0.6558\n",
      "Epoch 12/25\n",
      "100/100 [==============================] - 84s 841ms/step - loss: 0.4198 - accuracy: 0.8690 - val_loss: 0.4700 - val_accuracy: 0.8748\n",
      "Epoch 13/25\n",
      "100/100 [==============================] - 84s 842ms/step - loss: 0.4263 - accuracy: 0.8667 - val_loss: 0.7139 - val_accuracy: 0.8746\n",
      "Epoch 14/25\n",
      "100/100 [==============================] - 84s 843ms/step - loss: 0.4190 - accuracy: 0.8712 - val_loss: 3.1114 - val_accuracy: 0.2011\n"
     ]
    },
    {
     "data": {
      "text/plain": [
       "<keras.callbacks.History at 0x7c71b2878fa0>"
      ]
     },
     "execution_count": 14,
     "metadata": {},
     "output_type": "execute_result"
    }
   ],
   "source": [
    "model.fit(train_ds, validation_data= val_ds, epochs= 25, steps_per_epoch= 100, callbacks= [earlystop])"
   ]
  },
  {
   "cell_type": "code",
   "execution_count": 15,
   "id": "a8fdae0b",
   "metadata": {
    "execution": {
     "iopub.execute_input": "2023-07-27T12:54:56.789499Z",
     "iopub.status.busy": "2023-07-27T12:54:56.787762Z",
     "iopub.status.idle": "2023-07-27T12:54:57.446217Z",
     "shell.execute_reply": "2023-07-27T12:54:57.445271Z"
    },
    "papermill": {
     "duration": 0.8102,
     "end_time": "2023-07-27T12:54:57.448712",
     "exception": false,
     "start_time": "2023-07-27T12:54:56.638512",
     "status": "completed"
    },
    "tags": []
   },
   "outputs": [],
   "source": [
    "model.save('model.h5')"
   ]
  },
  {
   "cell_type": "code",
   "execution_count": 16,
   "id": "ad9d2dcc",
   "metadata": {
    "execution": {
     "iopub.execute_input": "2023-07-27T12:54:57.720674Z",
     "iopub.status.busy": "2023-07-27T12:54:57.720231Z",
     "iopub.status.idle": "2023-07-27T12:54:58.013914Z",
     "shell.execute_reply": "2023-07-27T12:54:58.012965Z"
    },
    "papermill": {
     "duration": 0.434786,
     "end_time": "2023-07-27T12:54:58.016065",
     "exception": false,
     "start_time": "2023-07-27T12:54:57.581279",
     "status": "completed"
    },
    "tags": []
   },
   "outputs": [
    {
     "data": {
      "text/plain": [
       "1630"
      ]
     },
     "execution_count": 16,
     "metadata": {},
     "output_type": "execute_result"
    }
   ],
   "source": [
    "del vol_1\n",
    "del vol_2\n",
    "del vol_3\n",
    "\n",
    "del mask_1\n",
    "del mask_2\n",
    "del mask_3\n",
    "\n",
    "del label_1\n",
    "del label_2\n",
    "del label_3\n",
    "\n",
    "del train_ds\n",
    "del val_ds\n",
    "\n",
    "backend.clear_session()\n",
    "import gc\n",
    "gc.collect()"
   ]
  },
  {
   "cell_type": "code",
   "execution_count": 17,
   "id": "677b498e",
   "metadata": {
    "execution": {
     "iopub.execute_input": "2023-07-27T12:54:58.280625Z",
     "iopub.status.busy": "2023-07-27T12:54:58.280227Z",
     "iopub.status.idle": "2023-07-27T12:54:58.293227Z",
     "shell.execute_reply": "2023-07-27T12:54:58.292252Z"
    },
    "papermill": {
     "duration": 0.146943,
     "end_time": "2023-07-27T12:54:58.295306",
     "exception": false,
     "start_time": "2023-07-27T12:54:58.148363",
     "status": "completed"
    },
    "tags": []
   },
   "outputs": [],
   "source": [
    "def compute_predictions_map(split, index):\n",
    "    test_mask, test_volume, _ = load_sample(split=split, index=index)\n",
    "\n",
    "    test_ds = make_tf_dataset(\n",
    "        make_iterated_data_generator(test_volume, test_mask),\n",
    "        labeled=False,\n",
    "    )\n",
    "    locations_ds = tf.data.Dataset.from_tensor_slices(\n",
    "        list_all_locations(test_mask, stride=PATCH_SIZE)\n",
    "    ).batch(BATCH_SIZE)\n",
    "\n",
    "    predictions_map = np.zeros(test_volume.shape[:2] + (1,), dtype='float32')\n",
    "    predictions_map_counts = np.zeros(test_volume.shape[:2] + (1,), dtype='int32')\n",
    "\n",
    "    print(f'Compute predictions')\n",
    "\n",
    "    for loc_batch, patch_batch in tqdm(zip(locations_ds, test_ds)):\n",
    "        predictions = model.predict_on_batch(patch_batch)\n",
    "\n",
    "        for (x, y), pred in zip(loc_batch, predictions):\n",
    "            predictions_map[x - PATCH_HALFSIZE : x + PATCH_HALFSIZE, y - PATCH_HALFSIZE : y + PATCH_HALFSIZE, :] += pred\n",
    "            predictions_map_counts[x - PATCH_HALFSIZE : x + PATCH_HALFSIZE, y - PATCH_HALFSIZE : y + PATCH_HALFSIZE, :] += 1\n",
    "            \n",
    "    predictions_map /= (predictions_map_counts + 1e-7)\n",
    "    return predictions_map"
   ]
  },
  {
   "cell_type": "code",
   "execution_count": 18,
   "id": "fcedf16e",
   "metadata": {
    "execution": {
     "iopub.execute_input": "2023-07-27T12:54:58.556692Z",
     "iopub.status.busy": "2023-07-27T12:54:58.556387Z",
     "iopub.status.idle": "2023-07-27T12:56:05.441635Z",
     "shell.execute_reply": "2023-07-27T12:56:05.440623Z"
    },
    "papermill": {
     "duration": 67.01837,
     "end_time": "2023-07-27T12:56:05.444083",
     "exception": false,
     "start_time": "2023-07-27T12:54:58.425713",
     "status": "completed"
    },
    "tags": []
   },
   "outputs": [
    {
     "name": "stderr",
     "output_type": "stream",
     "text": [
      "100%|██████████| 16/16 [00:16<00:00,  1.05s/it]\n"
     ]
    },
    {
     "name": "stdout",
     "output_type": "stream",
     "text": [
      "Compute predictions\n"
     ]
    },
    {
     "name": "stderr",
     "output_type": "stream",
     "text": [
      "11it [00:07,  1.44it/s]\n",
      "100%|██████████| 16/16 [00:26<00:00,  1.67s/it]\n"
     ]
    },
    {
     "name": "stdout",
     "output_type": "stream",
     "text": [
      "Compute predictions\n"
     ]
    },
    {
     "name": "stderr",
     "output_type": "stream",
     "text": [
      "5it [00:03,  1.47it/s]\n"
     ]
    }
   ],
   "source": [
    "predictions_map_a = compute_predictions_map(split='test', index='a')\n",
    "predictions_map_b = compute_predictions_map(split='test', index='b')"
   ]
  },
  {
   "cell_type": "code",
   "execution_count": 19,
   "id": "b7a8c564",
   "metadata": {
    "execution": {
     "iopub.execute_input": "2023-07-27T12:56:05.724210Z",
     "iopub.status.busy": "2023-07-27T12:56:05.723227Z",
     "iopub.status.idle": "2023-07-27T12:56:12.663350Z",
     "shell.execute_reply": "2023-07-27T12:56:12.662298Z"
    },
    "papermill": {
     "duration": 7.082647,
     "end_time": "2023-07-27T12:56:12.666110",
     "exception": false,
     "start_time": "2023-07-27T12:56:05.583463",
     "status": "completed"
    },
    "tags": []
   },
   "outputs": [],
   "source": [
    "'''\n",
    "Resize Image To Original\n",
    "'''\n",
    "from skimage.transform import resize as resize_ski\n",
    "import PIL.Image as Image\n",
    "\n",
    "original_size_a = Image.open(DATA_DIR + \"/test/a/mask.png\").size\n",
    "predictions_map_a = resize_ski(predictions_map_a, (original_size_a[1], original_size_a[0])).squeeze()\n",
    "\n",
    "original_size_b = Image.open(DATA_DIR + \"/test/b/mask.png\").size\n",
    "predictions_map_b = resize_ski(predictions_map_b, (original_size_b[1], original_size_b[0])).squeeze()"
   ]
  },
  {
   "cell_type": "code",
   "execution_count": 20,
   "id": "7610387f",
   "metadata": {
    "execution": {
     "iopub.execute_input": "2023-07-27T12:56:12.946507Z",
     "iopub.status.busy": "2023-07-27T12:56:12.946133Z",
     "iopub.status.idle": "2023-07-27T12:56:12.953343Z",
     "shell.execute_reply": "2023-07-27T12:56:12.952270Z"
    },
    "papermill": {
     "duration": 0.15148,
     "end_time": "2023-07-27T12:56:12.955704",
     "exception": false,
     "start_time": "2023-07-27T12:56:12.804224",
     "status": "completed"
    },
    "tags": []
   },
   "outputs": [],
   "source": [
    "def rle(predictions_map, threshold):\n",
    "    flat_img = predictions_map.flatten()\n",
    "    flat_img = np.where(flat_img > threshold, 1, 0).astype(np.uint8)\n",
    "\n",
    "    starts = np.array((flat_img[:-1] == 0) & (flat_img[1:] == 1))\n",
    "    ends = np.array((flat_img[:-1] == 1) & (flat_img[1:] == 0))\n",
    "    starts_ix = np.where(starts)[0] + 2\n",
    "    ends_ix = np.where(ends)[0] + 2\n",
    "    lengths = ends_ix - starts_ix\n",
    "    return \" \".join(map(str, sum(zip(starts_ix, lengths), ())))"
   ]
  },
  {
   "cell_type": "code",
   "execution_count": 21,
   "id": "cf7ba8c8",
   "metadata": {
    "execution": {
     "iopub.execute_input": "2023-07-27T12:56:13.234001Z",
     "iopub.status.busy": "2023-07-27T12:56:13.233617Z",
     "iopub.status.idle": "2023-07-27T12:56:17.031524Z",
     "shell.execute_reply": "2023-07-27T12:56:17.030523Z"
    },
    "papermill": {
     "duration": 3.940821,
     "end_time": "2023-07-27T12:56:17.034033",
     "exception": false,
     "start_time": "2023-07-27T12:56:13.093212",
     "status": "completed"
    },
    "tags": []
   },
   "outputs": [],
   "source": [
    "THRESHOLD = 0.1\n",
    "\n",
    "rle_a = rle(predictions_map_a, threshold=THRESHOLD)\n",
    "rle_b = rle(predictions_map_b, threshold=THRESHOLD)\n",
    "print(\"Id,Predicted\\na,\" + rle_a + \"\\nb,\" + rle_b, file=open(\"submission.csv\", \"w\"))"
   ]
  }
 ],
 "metadata": {
  "kernelspec": {
   "display_name": "Python 3",
   "language": "python",
   "name": "python3"
  },
  "language_info": {
   "codemirror_mode": {
    "name": "ipython",
    "version": 3
   },
   "file_extension": ".py",
   "mimetype": "text/x-python",
   "name": "python",
   "nbconvert_exporter": "python",
   "pygments_lexer": "ipython3",
   "version": "3.10.10"
  },
  "papermill": {
   "default_parameters": {},
   "duration": 1588.636966,
   "end_time": "2023-07-27T12:56:21.132431",
   "environment_variables": {},
   "exception": null,
   "input_path": "__notebook__.ipynb",
   "output_path": "__notebook__.ipynb",
   "parameters": {},
   "start_time": "2023-07-27T12:29:52.495465",
   "version": "2.4.0"
  }
 },
 "nbformat": 4,
 "nbformat_minor": 5
}
